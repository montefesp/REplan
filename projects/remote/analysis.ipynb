{
 "cells": [
  {
   "cell_type": "code",
   "execution_count": 1,
   "metadata": {},
   "outputs": [],
   "source": [
    "from os.path import join, dirname, abspath\n",
    "\n",
    "import matplotlib.pyplot as plt\n",
    "\n",
    "from pypsa import Network\n",
    "\n",
    "from postprocessing.utils import *\n",
    "\n",
    "import shapely.wkt"
   ]
  },
  {
   "cell_type": "markdown",
   "metadata": {},
   "source": [
    "### Parameters"
   ]
  },
  {
   "cell_type": "code",
   "execution_count": 114,
   "metadata": {},
   "outputs": [],
   "source": [
    "year = 2018\n",
    "\n",
    "techs = [\"ccgt\", \"pv_residential_national\", \"pv_utility_national\",\n",
    "         \"wind_offshore_national\", \"wind_onshore_national\",\n",
    "         \"AC\", \"DC\", \"Li-ion\", \"nuclear\"]\n",
    "techs_generic = [\"ccgt\", \"pv_residential\", \"pv_utility\",\n",
    "                 \"wind_offshore\", \"wind_onshore\",\n",
    "                 \"AC\", \"DC\", \"Li-ion\", \"nuclear\"]\n",
    "\n",
    "regions_dict = {'Iberia': ['ES', 'PT'],\n",
    "                'Central West': ['NL', 'BE', 'LU', 'FR', 'DE'],\n",
    "                'Nordics': ['DK', 'NO', 'SE', 'FI'],\n",
    "                'British Isles': ['GB', 'IE'],\n",
    "                'Central South': ['CH', 'IT', 'AT', 'SI'],\n",
    "                'East': ['PL', 'HU', 'CZ', 'SK', 'LV', 'LT', 'EE'],\n",
    "                'South': ['HR', 'GR', 'BG', 'RO'],\n",
    "                'NA': [\"DZ\", \"EG\", \"MA\", \"LY\", \"TN\"],\n",
    "                'ME': [\"CY\", \"IL\", \"JO\", \"SA\", \"SY\"],\n",
    "                'GLIS': [\"GL\", \"IS\"]}\n",
    "\n",
    "cases = [\"20201119_150737\"]"
   ]
  },
  {
   "cell_type": "markdown",
   "metadata": {},
   "source": [
    "### Loading solved nets"
   ]
  },
  {
   "cell_type": "code",
   "execution_count": 115,
   "metadata": {},
   "outputs": [
    {
     "name": "stderr",
     "output_type": "stream",
     "text": [
      "INFO:pypsa.io:Imported network  has buses, carriers, generators, links, loads, storage_units\n"
     ]
    }
   ],
   "source": [
    "nets = dict.fromkeys(cases)\n",
    "for case in cases:\n",
    "    output_dir = f'../../output/remote_siting/{case}/'\n",
    "    net = Network()\n",
    "    net.import_from_csv_folder(output_dir)\n",
    "    nets[case] = net\n",
    "    \n",
    "    # Converting polygons strings to Polygon object\n",
    "    for region_type in [\"onshore_region\", \"offshore_region\"]:\n",
    "        regions = net.buses[region_type].values\n",
    "        # Convert strings\n",
    "        for i, region in enumerate(regions):\n",
    "            if isinstance(region, str):\n",
    "                regions[i] = shapely.wkt.loads(region)"
   ]
  },
  {
   "cell_type": "markdown",
   "metadata": {},
   "source": [
    "### Compute costs"
   ]
  },
  {
   "cell_type": "code",
   "execution_count": 110,
   "metadata": {},
   "outputs": [
    {
     "name": "stdout",
     "output_type": "stream",
     "text": [
      "DC\n",
      "pv_residential_national\n",
      "pv_utility_national\n",
      "pv_utility_noneu\n",
      "wind_onshore_national\n",
      "wind_onshore_noneu\n",
      "wind_offshore_national\n",
      "Cost per TWh:\n",
      "                         20201119_150016\n",
      "AC                                 0.000\n",
      "DC                                 0.000\n",
      "ccgt                              71.441\n",
      "Li-ion                             0.270\n",
      "pv_residential_national            0.000\n",
      "pv_utility_national                0.000\n",
      "pv_utility_noneu                   0.000\n",
      "nuclear                            9.044\n",
      "phs                                0.270\n",
      "ror                                8.100\n",
      "sto                                6.000\n",
      "wind_onshore_national              0.000\n",
      "wind_onshore_noneu                 0.000\n",
      "wind_offshore_national             0.000\n"
     ]
    }
   ],
   "source": [
    "# Technology cost\n",
    "techs = [\"AC\", \"DC\", \"ccgt\", \"Li-ion\", \"pv_residential_national\", \"pv_utility_national\",\n",
    "         \"pv_utility_noneu\", \"nuclear\", \"phs\", \"ror\", \"sto\",\n",
    "         \"wind_onshore_national\", \"wind_onshore_noneu\", \"wind_offshore_national\"]\n",
    "tech_costs = pd.DataFrame(0., index=techs, columns=cases)\n",
    "cost_type = \"marginal_cost\"\n",
    "for case in cases:\n",
    "    net = nets[case]\n",
    "    for tech in techs:\n",
    "        if tech in [\"AC\", \"DC\"]:\n",
    "            # Line cost per 1000km and 1GW\n",
    "            links = net.links[net.links.carrier == tech]\n",
    "            cost = (links[cost_type]/links.length).unique()*1000\n",
    "        elif tech in [\"Li-ion\", \"phs\", \"sto\"]:\n",
    "            cost = net.storage_units[net.storage_units.type == tech][cost_type].unique()\n",
    "        else:\n",
    "            cost = net.generators[net.generators.type == tech][cost_type].unique()\n",
    "        if len(cost) != 0:\n",
    "            tech_costs.loc[tech, case] = cost[0]\n",
    "        else:\n",
    "            print(tech)\n",
    "if cost_type == \"capital_cost\":\n",
    "    print(f\"Cost per GW:\\n{tech_costs}\")\n",
    "else:\n",
    "    print(f\"Cost per TWh:\\n{tech_costs*1000}\")"
   ]
  },
  {
   "cell_type": "code",
   "execution_count": 111,
   "metadata": {},
   "outputs": [
    {
     "name": "stdout",
     "output_type": "stream",
     "text": [
      "             20201119_150016\n",
      "Generation           10.1373\n",
      "Transmission     1.66048e-08\n",
      "Storage           0.00153528\n",
      "Total                 10.139\n"
     ]
    }
   ],
   "source": [
    "# System cost\n",
    "costs = pd.DataFrame(index=[\"Generation\", \"Transmission\", \"Storage\"], columns=cases)\n",
    "for case in cases:\n",
    "    net = nets[case]\n",
    "    cost = get_generators_cost(net).sum() + get_links_capex(net).sum() + get_storage_cost(net).sum()\n",
    "    costs.loc[\"Generation\", case] = get_generators_cost(net).sum()\n",
    "    costs.loc[\"Transmission\", case] = get_links_capex(net).sum()\n",
    "    costs.loc[\"Storage\", case] = get_storage_cost(net).sum()\n",
    "costs.loc[\"Total\"] = costs.sum().round(3)\n",
    "print(costs)"
   ]
  },
  {
   "cell_type": "markdown",
   "metadata": {},
   "source": [
    "### Capacities"
   ]
  },
  {
   "cell_type": "markdown",
   "metadata": {},
   "source": [
    "#### Total capacities"
   ]
  },
  {
   "cell_type": "code",
   "execution_count": 112,
   "metadata": {},
   "outputs": [
    {
     "ename": "KeyError",
     "evalue": "\"Passing list-likes to .loc or [] with any missing labels is no longer supported. The following labels were missing: Index(['pv_residential_national', 'pv_utility_national',\\n       'wind_offshore_national', 'wind_onshore_national', 'DC'],\\n      dtype='object'). See https://pandas.pydata.org/pandas-docs/stable/user_guide/indexing.html#deprecate-loc-reindex-listlike\"",
     "output_type": "error",
     "traceback": [
      "\u001b[0;31m---------------------------------------------------------------------------\u001b[0m",
      "\u001b[0;31mKeyError\u001b[0m                                  Traceback (most recent call last)",
      "\u001b[0;32m<ipython-input-112-8d45ee0dc501>\u001b[0m in \u001b[0;36m<module>\u001b[0;34m\u001b[0m\n\u001b[1;32m     15\u001b[0m                             \u001b[0mget_links_capacity\u001b[0m\u001b[0;34m(\u001b[0m\u001b[0mnet\u001b[0m\u001b[0;34m)\u001b[0m\u001b[0;34m[\u001b[0m\u001b[0;34m\"init [TWkm]\"\u001b[0m\u001b[0;34m]\u001b[0m\u001b[0;34m,\u001b[0m\u001b[0;34m\u001b[0m\u001b[0;34m\u001b[0m\u001b[0m\n\u001b[1;32m     16\u001b[0m                             get_storage_power_capacity(net)[\"init [GW]\"]])\n\u001b[0;32m---> 17\u001b[0;31m     \u001b[0mcapacities_init_df\u001b[0m\u001b[0;34m[\u001b[0m\u001b[0mcase\u001b[0m\u001b[0;34m]\u001b[0m \u001b[0;34m=\u001b[0m \u001b[0mcapacities\u001b[0m\u001b[0;34m[\u001b[0m\u001b[0mtechs\u001b[0m\u001b[0;34m]\u001b[0m\u001b[0;34m.\u001b[0m\u001b[0mround\u001b[0m\u001b[0;34m(\u001b[0m\u001b[0;34m)\u001b[0m\u001b[0;34m.\u001b[0m\u001b[0mvalues\u001b[0m\u001b[0;34m\u001b[0m\u001b[0;34m\u001b[0m\u001b[0m\n\u001b[0m\u001b[1;32m     18\u001b[0m \u001b[0max1\u001b[0m \u001b[0;34m=\u001b[0m \u001b[0mcapacities_df\u001b[0m\u001b[0;34m.\u001b[0m\u001b[0mplot\u001b[0m\u001b[0;34m(\u001b[0m\u001b[0mkind\u001b[0m\u001b[0;34m=\u001b[0m\u001b[0;34m\"bar\"\u001b[0m\u001b[0;34m)\u001b[0m\u001b[0;34m\u001b[0m\u001b[0;34m\u001b[0m\u001b[0m\n\u001b[1;32m     19\u001b[0m \u001b[0mcapacities_init_df\u001b[0m\u001b[0;34m.\u001b[0m\u001b[0mplot\u001b[0m\u001b[0;34m(\u001b[0m\u001b[0max\u001b[0m\u001b[0;34m=\u001b[0m\u001b[0max1\u001b[0m\u001b[0;34m,\u001b[0m \u001b[0mkind\u001b[0m\u001b[0;34m=\u001b[0m\u001b[0;34m\"bar\"\u001b[0m\u001b[0;34m,\u001b[0m \u001b[0mcolor\u001b[0m\u001b[0;34m=\u001b[0m\u001b[0;34m'k'\u001b[0m\u001b[0;34m,\u001b[0m \u001b[0malpha\u001b[0m\u001b[0;34m=\u001b[0m\u001b[0;36m0.5\u001b[0m\u001b[0;34m)\u001b[0m\u001b[0;34m\u001b[0m\u001b[0;34m\u001b[0m\u001b[0m\n",
      "\u001b[0;32m~/miniconda3/envs/replan/lib/python3.7/site-packages/pandas/core/series.py\u001b[0m in \u001b[0;36m__getitem__\u001b[0;34m(self, key)\u001b[0m\n\u001b[1;32m    904\u001b[0m             \u001b[0;32mreturn\u001b[0m \u001b[0mself\u001b[0m\u001b[0;34m.\u001b[0m\u001b[0m_get_values\u001b[0m\u001b[0;34m(\u001b[0m\u001b[0mkey\u001b[0m\u001b[0;34m)\u001b[0m\u001b[0;34m\u001b[0m\u001b[0;34m\u001b[0m\u001b[0m\n\u001b[1;32m    905\u001b[0m \u001b[0;34m\u001b[0m\u001b[0m\n\u001b[0;32m--> 906\u001b[0;31m         \u001b[0;32mreturn\u001b[0m \u001b[0mself\u001b[0m\u001b[0;34m.\u001b[0m\u001b[0m_get_with\u001b[0m\u001b[0;34m(\u001b[0m\u001b[0mkey\u001b[0m\u001b[0;34m)\u001b[0m\u001b[0;34m\u001b[0m\u001b[0;34m\u001b[0m\u001b[0m\n\u001b[0m\u001b[1;32m    907\u001b[0m \u001b[0;34m\u001b[0m\u001b[0m\n\u001b[1;32m    908\u001b[0m     \u001b[0;32mdef\u001b[0m \u001b[0m_get_with\u001b[0m\u001b[0;34m(\u001b[0m\u001b[0mself\u001b[0m\u001b[0;34m,\u001b[0m \u001b[0mkey\u001b[0m\u001b[0;34m)\u001b[0m\u001b[0;34m:\u001b[0m\u001b[0;34m\u001b[0m\u001b[0;34m\u001b[0m\u001b[0m\n",
      "\u001b[0;32m~/miniconda3/envs/replan/lib/python3.7/site-packages/pandas/core/series.py\u001b[0m in \u001b[0;36m_get_with\u001b[0;34m(self, key)\u001b[0m\n\u001b[1;32m    944\u001b[0m \u001b[0;34m\u001b[0m\u001b[0m\n\u001b[1;32m    945\u001b[0m         \u001b[0;31m# handle the dup indexing case GH#4246\u001b[0m\u001b[0;34m\u001b[0m\u001b[0;34m\u001b[0m\u001b[0;34m\u001b[0m\u001b[0m\n\u001b[0;32m--> 946\u001b[0;31m         \u001b[0;32mreturn\u001b[0m \u001b[0mself\u001b[0m\u001b[0;34m.\u001b[0m\u001b[0mloc\u001b[0m\u001b[0;34m[\u001b[0m\u001b[0mkey\u001b[0m\u001b[0;34m]\u001b[0m\u001b[0;34m\u001b[0m\u001b[0;34m\u001b[0m\u001b[0m\n\u001b[0m\u001b[1;32m    947\u001b[0m \u001b[0;34m\u001b[0m\u001b[0m\n\u001b[1;32m    948\u001b[0m     \u001b[0;32mdef\u001b[0m \u001b[0m_get_values_tuple\u001b[0m\u001b[0;34m(\u001b[0m\u001b[0mself\u001b[0m\u001b[0;34m,\u001b[0m \u001b[0mkey\u001b[0m\u001b[0;34m)\u001b[0m\u001b[0;34m:\u001b[0m\u001b[0;34m\u001b[0m\u001b[0;34m\u001b[0m\u001b[0m\n",
      "\u001b[0;32m~/miniconda3/envs/replan/lib/python3.7/site-packages/pandas/core/indexing.py\u001b[0m in \u001b[0;36m__getitem__\u001b[0;34m(self, key)\u001b[0m\n\u001b[1;32m    877\u001b[0m \u001b[0;34m\u001b[0m\u001b[0m\n\u001b[1;32m    878\u001b[0m             \u001b[0mmaybe_callable\u001b[0m \u001b[0;34m=\u001b[0m \u001b[0mcom\u001b[0m\u001b[0;34m.\u001b[0m\u001b[0mapply_if_callable\u001b[0m\u001b[0;34m(\u001b[0m\u001b[0mkey\u001b[0m\u001b[0;34m,\u001b[0m \u001b[0mself\u001b[0m\u001b[0;34m.\u001b[0m\u001b[0mobj\u001b[0m\u001b[0;34m)\u001b[0m\u001b[0;34m\u001b[0m\u001b[0;34m\u001b[0m\u001b[0m\n\u001b[0;32m--> 879\u001b[0;31m             \u001b[0;32mreturn\u001b[0m \u001b[0mself\u001b[0m\u001b[0;34m.\u001b[0m\u001b[0m_getitem_axis\u001b[0m\u001b[0;34m(\u001b[0m\u001b[0mmaybe_callable\u001b[0m\u001b[0;34m,\u001b[0m \u001b[0maxis\u001b[0m\u001b[0;34m=\u001b[0m\u001b[0maxis\u001b[0m\u001b[0;34m)\u001b[0m\u001b[0;34m\u001b[0m\u001b[0;34m\u001b[0m\u001b[0m\n\u001b[0m\u001b[1;32m    880\u001b[0m \u001b[0;34m\u001b[0m\u001b[0m\n\u001b[1;32m    881\u001b[0m     \u001b[0;32mdef\u001b[0m \u001b[0m_is_scalar_access\u001b[0m\u001b[0;34m(\u001b[0m\u001b[0mself\u001b[0m\u001b[0;34m,\u001b[0m \u001b[0mkey\u001b[0m\u001b[0;34m:\u001b[0m \u001b[0mTuple\u001b[0m\u001b[0;34m)\u001b[0m\u001b[0;34m:\u001b[0m\u001b[0;34m\u001b[0m\u001b[0;34m\u001b[0m\u001b[0m\n",
      "\u001b[0;32m~/miniconda3/envs/replan/lib/python3.7/site-packages/pandas/core/indexing.py\u001b[0m in \u001b[0;36m_getitem_axis\u001b[0;34m(self, key, axis)\u001b[0m\n\u001b[1;32m   1097\u001b[0m                     \u001b[0;32mraise\u001b[0m \u001b[0mValueError\u001b[0m\u001b[0;34m(\u001b[0m\u001b[0;34m\"Cannot index with multidimensional key\"\u001b[0m\u001b[0;34m)\u001b[0m\u001b[0;34m\u001b[0m\u001b[0;34m\u001b[0m\u001b[0m\n\u001b[1;32m   1098\u001b[0m \u001b[0;34m\u001b[0m\u001b[0m\n\u001b[0;32m-> 1099\u001b[0;31m                 \u001b[0;32mreturn\u001b[0m \u001b[0mself\u001b[0m\u001b[0;34m.\u001b[0m\u001b[0m_getitem_iterable\u001b[0m\u001b[0;34m(\u001b[0m\u001b[0mkey\u001b[0m\u001b[0;34m,\u001b[0m \u001b[0maxis\u001b[0m\u001b[0;34m=\u001b[0m\u001b[0maxis\u001b[0m\u001b[0;34m)\u001b[0m\u001b[0;34m\u001b[0m\u001b[0;34m\u001b[0m\u001b[0m\n\u001b[0m\u001b[1;32m   1100\u001b[0m \u001b[0;34m\u001b[0m\u001b[0m\n\u001b[1;32m   1101\u001b[0m             \u001b[0;31m# nested tuple slicing\u001b[0m\u001b[0;34m\u001b[0m\u001b[0;34m\u001b[0m\u001b[0;34m\u001b[0m\u001b[0m\n",
      "\u001b[0;32m~/miniconda3/envs/replan/lib/python3.7/site-packages/pandas/core/indexing.py\u001b[0m in \u001b[0;36m_getitem_iterable\u001b[0;34m(self, key, axis)\u001b[0m\n\u001b[1;32m   1035\u001b[0m \u001b[0;34m\u001b[0m\u001b[0m\n\u001b[1;32m   1036\u001b[0m         \u001b[0;31m# A collection of keys\u001b[0m\u001b[0;34m\u001b[0m\u001b[0;34m\u001b[0m\u001b[0;34m\u001b[0m\u001b[0m\n\u001b[0;32m-> 1037\u001b[0;31m         \u001b[0mkeyarr\u001b[0m\u001b[0;34m,\u001b[0m \u001b[0mindexer\u001b[0m \u001b[0;34m=\u001b[0m \u001b[0mself\u001b[0m\u001b[0;34m.\u001b[0m\u001b[0m_get_listlike_indexer\u001b[0m\u001b[0;34m(\u001b[0m\u001b[0mkey\u001b[0m\u001b[0;34m,\u001b[0m \u001b[0maxis\u001b[0m\u001b[0;34m,\u001b[0m \u001b[0mraise_missing\u001b[0m\u001b[0;34m=\u001b[0m\u001b[0;32mFalse\u001b[0m\u001b[0;34m)\u001b[0m\u001b[0;34m\u001b[0m\u001b[0;34m\u001b[0m\u001b[0m\n\u001b[0m\u001b[1;32m   1038\u001b[0m         return self.obj._reindex_with_indexers(\n\u001b[1;32m   1039\u001b[0m             \u001b[0;34m{\u001b[0m\u001b[0maxis\u001b[0m\u001b[0;34m:\u001b[0m \u001b[0;34m[\u001b[0m\u001b[0mkeyarr\u001b[0m\u001b[0;34m,\u001b[0m \u001b[0mindexer\u001b[0m\u001b[0;34m]\u001b[0m\u001b[0;34m}\u001b[0m\u001b[0;34m,\u001b[0m \u001b[0mcopy\u001b[0m\u001b[0;34m=\u001b[0m\u001b[0;32mTrue\u001b[0m\u001b[0;34m,\u001b[0m \u001b[0mallow_dups\u001b[0m\u001b[0;34m=\u001b[0m\u001b[0;32mTrue\u001b[0m\u001b[0;34m\u001b[0m\u001b[0;34m\u001b[0m\u001b[0m\n",
      "\u001b[0;32m~/miniconda3/envs/replan/lib/python3.7/site-packages/pandas/core/indexing.py\u001b[0m in \u001b[0;36m_get_listlike_indexer\u001b[0;34m(self, key, axis, raise_missing)\u001b[0m\n\u001b[1;32m   1252\u001b[0m             \u001b[0mkeyarr\u001b[0m\u001b[0;34m,\u001b[0m \u001b[0mindexer\u001b[0m\u001b[0;34m,\u001b[0m \u001b[0mnew_indexer\u001b[0m \u001b[0;34m=\u001b[0m \u001b[0max\u001b[0m\u001b[0;34m.\u001b[0m\u001b[0m_reindex_non_unique\u001b[0m\u001b[0;34m(\u001b[0m\u001b[0mkeyarr\u001b[0m\u001b[0;34m)\u001b[0m\u001b[0;34m\u001b[0m\u001b[0;34m\u001b[0m\u001b[0m\n\u001b[1;32m   1253\u001b[0m \u001b[0;34m\u001b[0m\u001b[0m\n\u001b[0;32m-> 1254\u001b[0;31m         \u001b[0mself\u001b[0m\u001b[0;34m.\u001b[0m\u001b[0m_validate_read_indexer\u001b[0m\u001b[0;34m(\u001b[0m\u001b[0mkeyarr\u001b[0m\u001b[0;34m,\u001b[0m \u001b[0mindexer\u001b[0m\u001b[0;34m,\u001b[0m \u001b[0maxis\u001b[0m\u001b[0;34m,\u001b[0m \u001b[0mraise_missing\u001b[0m\u001b[0;34m=\u001b[0m\u001b[0mraise_missing\u001b[0m\u001b[0;34m)\u001b[0m\u001b[0;34m\u001b[0m\u001b[0;34m\u001b[0m\u001b[0m\n\u001b[0m\u001b[1;32m   1255\u001b[0m         \u001b[0;32mreturn\u001b[0m \u001b[0mkeyarr\u001b[0m\u001b[0;34m,\u001b[0m \u001b[0mindexer\u001b[0m\u001b[0;34m\u001b[0m\u001b[0;34m\u001b[0m\u001b[0m\n\u001b[1;32m   1256\u001b[0m \u001b[0;34m\u001b[0m\u001b[0m\n",
      "\u001b[0;32m~/miniconda3/envs/replan/lib/python3.7/site-packages/pandas/core/indexing.py\u001b[0m in \u001b[0;36m_validate_read_indexer\u001b[0;34m(self, key, indexer, axis, raise_missing)\u001b[0m\n\u001b[1;32m   1314\u001b[0m                 \u001b[0;32mwith\u001b[0m \u001b[0moption_context\u001b[0m\u001b[0;34m(\u001b[0m\u001b[0;34m\"display.max_seq_items\"\u001b[0m\u001b[0;34m,\u001b[0m \u001b[0;36m10\u001b[0m\u001b[0;34m,\u001b[0m \u001b[0;34m\"display.width\"\u001b[0m\u001b[0;34m,\u001b[0m \u001b[0;36m80\u001b[0m\u001b[0;34m)\u001b[0m\u001b[0;34m:\u001b[0m\u001b[0;34m\u001b[0m\u001b[0;34m\u001b[0m\u001b[0m\n\u001b[1;32m   1315\u001b[0m                     raise KeyError(\n\u001b[0;32m-> 1316\u001b[0;31m                         \u001b[0;34m\"Passing list-likes to .loc or [] with any missing labels \"\u001b[0m\u001b[0;34m\u001b[0m\u001b[0;34m\u001b[0m\u001b[0m\n\u001b[0m\u001b[1;32m   1317\u001b[0m                         \u001b[0;34m\"is no longer supported. \"\u001b[0m\u001b[0;34m\u001b[0m\u001b[0;34m\u001b[0m\u001b[0m\n\u001b[1;32m   1318\u001b[0m                         \u001b[0;34mf\"The following labels were missing: {not_found}. \"\u001b[0m\u001b[0;34m\u001b[0m\u001b[0;34m\u001b[0m\u001b[0m\n",
      "\u001b[0;31mKeyError\u001b[0m: \"Passing list-likes to .loc or [] with any missing labels is no longer supported. The following labels were missing: Index(['pv_residential_national', 'pv_utility_national',\\n       'wind_offshore_national', 'wind_onshore_national', 'DC'],\\n      dtype='object'). See https://pandas.pydata.org/pandas-docs/stable/user_guide/indexing.html#deprecate-loc-reindex-listlike\""
     ]
    }
   ],
   "source": [
    "techs = [\"ccgt\", \"pv_residential_national\", \"pv_utility_national\",\n",
    "         \"wind_offshore_national\", \"wind_onshore_national\",\n",
    "         \"AC\", \"DC\", \"Li-ion\", \"nuclear\"]\n",
    "capacities_df = pd.DataFrame(columns=cases, index=techs_generic)\n",
    "capacities_init_df = pd.DataFrame(columns=cases, index=techs_generic)\n",
    "for case in cases:\n",
    "    net = nets[case]\n",
    "    capacities = pd.concat([get_generators_capacity(net)[\"final\"],\n",
    "                            get_links_capacity(net)[\"new [TWkm]\"] + get_links_capacity(net)[\"init [TWkm]\"],\n",
    "                            get_storage_energy_capacity(net)[\"new [GWh]\"]])\n",
    "    for tech in techs_generic:\n",
    "        capacities_df.loc[tech, case] = capacities[capacities.index.str.startswith(tech)].sum().round()\n",
    "    # capacities_df[case] = capacities[techs].round().values\n",
    "    capacities = pd.concat([get_generators_capacity(net)[\"init\"],\n",
    "                            get_links_capacity(net)[\"init [TWkm]\"],\n",
    "                            get_storage_power_capacity(net)[\"init [GW]\"]])\n",
    "    capacities_init_df[case] = capacities[techs].round().values\n",
    "ax1 = capacities_df.plot(kind=\"bar\")\n",
    "capacities_init_df.plot(ax=ax1, kind=\"bar\", color='k', alpha=0.5)\n",
    "plt.xticks(rotation=\"45\")\n",
    "plt.savefig(f\"capacities_{year}.png\", bbox_inches=\"tight\")"
   ]
  },
  {
   "cell_type": "markdown",
   "metadata": {},
   "source": [
    "### Capacities per region"
   ]
  },
  {
   "cell_type": "code",
   "execution_count": 63,
   "metadata": {},
   "outputs": [],
   "source": [
    "# Compute\n",
    "storage_per_region = pd.DataFrame(0., index=regions_dict.keys(), columns=cases)\n",
    "ccgt_per_region = pd.DataFrame(0., index=regions_dict.keys(), columns=cases)\n",
    "pv_per_region_init = pd.DataFrame(0., index=regions_dict.keys(), columns=cases)\n",
    "pv_per_region_final = pd.DataFrame(0., index=regions_dict.keys(), columns=cases)\n",
    "pvr_per_region_init = pd.DataFrame(0., index=regions_dict.keys(), columns=cases)\n",
    "pvr_per_region_final = pd.DataFrame(0., index=regions_dict.keys(), columns=cases)\n",
    "won_per_region_init = pd.DataFrame(0., index=regions_dict.keys(), columns=cases)\n",
    "won_per_region_final = pd.DataFrame(0., index=regions_dict.keys(), columns=cases)\n",
    "woff_per_region_init = pd.DataFrame(0., index=regions_dict.keys(), columns=cases)\n",
    "woff_per_region_final = pd.DataFrame(0., index=regions_dict.keys(), columns=cases)\n",
    "\n",
    "init_or_max = \"init\"\n",
    "for case in cases:\n",
    "    net = nets[case]\n",
    "    capacities_df = pd.DataFrame(0., columns=regions_dict.keys(), \n",
    "                                 index=[\"ccgt\", \"Li-ion\", \"pv_residential\", \n",
    "                                        \"pv_utility\", \"wind_onshore\", \"wind_offshore\"])\n",
    "    for region in regions_dict.keys():\n",
    "        # Li-ion\n",
    "        df = get_storage_power_capacity(net, regions_dict[region], [\"Li-ion\"])\n",
    "        if 'Li-ion' in df.index:\n",
    "            storage_per_region.loc[region, case] = df.loc[\"Li-ion\", \"new [GW]\"]\n",
    "        capacities_df.loc[\"Li-ion\", region] = storage_per_region.loc[region, case]\n",
    "        \n",
    "        df = get_generators_capacity(net, regions_dict[region], [\"ccgt\"])\n",
    "        # CCGT\n",
    "        if 'ccgt' in df.index:\n",
    "            ccgt_per_region.loc[region, case] = df.loc[\"ccgt\", \"new\"]\n",
    "        capacities_df.loc[\"ccgt\", region] = ccgt_per_region.loc[region, case]\n",
    "\n",
    "        # PV utility\n",
    "        df = get_generators_capacity(net, regions_dict[region], [\"pv_utility_national\", \"pv_utility_noneu\"])\n",
    "        if 'pv_utility_national' in df.index:\n",
    "            pv_per_region_init.loc[region, case] = df.loc[\"pv_utility_national\", init_or_max]\n",
    "            pv_per_region_final.loc[region, case] = df.loc[\"pv_utility_national\", \"final\"]\n",
    "        if 'pv_utility_noneu' in df.index:\n",
    "            pv_per_region_init.loc[region, case] = df.loc[\"pv_utility_noneu\", init_or_max]\n",
    "            pv_per_region_final.loc[region, case] = df.loc[\"pv_utility_noneu\", \"final\"]\n",
    "        capacities_df.loc[\"pv_utility\", region] = pv_per_region_final.loc[region, case]\n",
    "\n",
    "        \n",
    "        # PV residential\n",
    "        df = get_generators_capacity(net, regions_dict[region], [\"pv_residential_national\"])\n",
    "        if 'pv_residential_national' in df.index:\n",
    "            pvr_per_region_init.loc[region, case] = df.loc[\"pv_residential_national\", init_or_max]\n",
    "            pvr_per_region_final.loc[region, case] = df.loc[\"pv_residential_national\", \"final\"]\n",
    "        capacities_df.loc[\"pv_residential\", region] = pvr_per_region_final.loc[region, case]\n",
    "\n",
    "        # Wind onshore\n",
    "        df = get_generators_capacity(net, regions_dict[region], [\"wind_onshore_national\", \"wind_onshore_noneu\"])\n",
    "        if 'wind_onshore_national' in df.index:\n",
    "            won_per_region_init.loc[region, case] = df.loc[\"wind_onshore_national\", init_or_max]\n",
    "            won_per_region_final.loc[region, case] = df.loc[\"wind_onshore_national\", \"final\"]\n",
    "        if 'wind_onshore_noneu' in df.index:\n",
    "            won_per_region_init.loc[region, case] = df.loc[\"wind_onshore_noneu\", init_or_max]\n",
    "            won_per_region_final.loc[region, case] = df.loc[\"wind_onshore_noneu\", \"final\"]\n",
    "        capacities_df.loc[\"wind_onshore\", region] = won_per_region_final.loc[region, case]\n",
    "\n",
    "        # Wind offshore\n",
    "        df = get_generators_capacity(net, regions_dict[region], [\"wind_offshore_national\", \"wind_offshore_noneu\"])\n",
    "        if 'wind_offshore_national' in df.index:\n",
    "            woff_per_region_init.loc[region, case] = df.loc[\"wind_offshore_national\", init_or_max]\n",
    "            woff_per_region_final.loc[region, case] = df.loc[\"wind_offshore_national\", \"final\"]\n",
    "        if 'wind_offshore_noneu' in df.index:\n",
    "            woff_per_region_init.loc[region, case] = df.loc[\"wind_offshore_noneu\", init_or_max]\n",
    "            woff_per_region_final.loc[region, case] = df.loc[\"wind_offshore_noneu\", \"final\"]\n",
    "        capacities_df.loc[\"wind_offshore\", region] = woff_per_region_final.loc[region, case]\n",
    "\n",
    "        #capacities_df.round(3).to_csv(f\"capacities_per_region_{case}.csv\")"
   ]
  },
  {
   "cell_type": "code",
   "execution_count": 7,
   "metadata": {},
   "outputs": [],
   "source": [
    "# Save\n",
    "storage_per_region.round(3).to_csv(\"liion.csv\")\n",
    "ccgt_per_region.round(3).to_csv(\"ccgt.csv\")\n",
    "pv_per_region_final.round(3).to_csv(\"pv_utility.csv\")\n",
    "pvr_per_region_final.round(3).to_csv(\"pv_residential.csv\")  \n",
    "won_per_region_final.round(3).to_csv(\"wind_onshore.csv\")  \n",
    "woff_per_region_final.round(3).to_csv(\"wind_offshore.csv\")"
   ]
  },
  {
   "cell_type": "code",
   "execution_count": 64,
   "metadata": {},
   "outputs": [
    {
     "data": {
      "text/plain": [
       "<Figure size 432x288 with 0 Axes>"
      ]
     },
     "metadata": {},
     "output_type": "display_data"
    },
    {
     "data": {
      "image/png": "[encoded data removed]",
      "text/plain": [
       "<Figure size 432x288 with 1 Axes>"
      ]
     },
     "metadata": {
      "needs_background": "light"
     },
     "output_type": "display_data"
    },
    {
     "data": {
      "text/plain": [
       "<Figure size 432x288 with 0 Axes>"
      ]
     },
     "metadata": {},
     "output_type": "display_data"
    },
    {
     "data": {
      "image/png": "[encoded data removed]",
      "text/plain": [
       "<Figure size 432x288 with 1 Axes>"
      ]
     },
     "metadata": {
      "needs_background": "light"
     },
     "output_type": "display_data"
    },
    {
     "data": {
      "text/plain": [
       "<Figure size 432x288 with 0 Axes>"
      ]
     },
     "metadata": {},
     "output_type": "display_data"
    },
    {
     "data": {
      "image/png": "[encoded data removed]",
      "text/plain": [
       "<Figure size 432x288 with 1 Axes>"
      ]
     },
     "metadata": {
      "needs_background": "light"
     },
     "output_type": "display_data"
    },
    {
     "data": {
      "text/plain": [
       "<Figure size 432x288 with 0 Axes>"
      ]
     },
     "metadata": {},
     "output_type": "display_data"
    },
    {
     "data": {
      "image/png": "[encoded data removed]",
      "text/plain": [
       "<Figure size 432x288 with 1 Axes>"
      ]
     },
     "metadata": {
      "needs_background": "light"
     },
     "output_type": "display_data"
    },
    {
     "data": {
      "text/plain": [
       "<Figure size 432x288 with 0 Axes>"
      ]
     },
     "metadata": {},
     "output_type": "display_data"
    },
    {
     "data": {
      "image/png": "[encoded data removed]",
      "text/plain": [
       "<Figure size 432x288 with 1 Axes>"
      ]
     },
     "metadata": {
      "needs_background": "light"
     },
     "output_type": "display_data"
    }
   ],
   "source": [
    "# Plot\n",
    "plt.figure()\n",
    "ccgt_per_region.plot(kind=\"bar\")\n",
    "plt.xticks(rotation=\"45\")\n",
    "plt.ylim([0, 100])\n",
    "plt.title(\"CCGT\")\n",
    "plt.savefig(f\"ccgt_capacities_{year}.png\", bbox_inches=\"tight\")\n",
    "\n",
    "plt.figure()\n",
    "storage_per_region.plot(kind=\"bar\")\n",
    "plt.xticks(rotation=\"45\")\n",
    "plt.ylim([0, 50])\n",
    "plt.title(\"Li-ion storage\")\n",
    "plt.savefig(f\"storage_capacities_{year}.png\", bbox_inches=\"tight\")\n",
    "\n",
    "plt.figure()\n",
    "ax = pv_per_region_final.plot(kind=\"bar\")\n",
    "pv_per_region_init.plot(ax=ax, kind=\"bar\", color='k', alpha=0.5)\n",
    "plt.xticks(rotation=\"45\")\n",
    "plt.legend(cases)\n",
    "plt.ylim([0, 550])\n",
    "plt.title(\"PV\")\n",
    "plt.savefig(f\"pv_capacities_{year}.png\", bbox_inches=\"tight\")\n",
    "\n",
    "plt.figure()\n",
    "ax1 = won_per_region_final.plot(kind=\"bar\")\n",
    "won_per_region_init.plot(ax=ax1, kind=\"bar\", color='k', alpha=0.5)\n",
    "plt.xticks(rotation=\"45\")\n",
    "plt.legend(cases)\n",
    "# plt.ylim([0, 225])\n",
    "plt.title(\"Onshore Wind\")\n",
    "plt.savefig(f\"windon_capacities_{year}.png\", bbox_inches=\"tight\")\n",
    "\n",
    "plt.figure()\n",
    "ax2 = woff_per_region_final.plot(kind=\"bar\")\n",
    "woff_per_region_init.plot(ax=ax2, kind=\"bar\", color='k', alpha=0.5)\n",
    "plt.xticks(rotation=\"45\")\n",
    "plt.legend(cases)\n",
    "# plt.ylim([0, 100])\n",
    "plt.title(\"Offshore Wind\")\n",
    "plt.savefig(f\"windoff_capacities_{year}.png\", bbox_inches=\"tight\")"
   ]
  },
  {
   "cell_type": "markdown",
   "metadata": {},
   "source": [
    "#### Geographical distribution of capacities"
   ]
  },
  {
   "cell_type": "code",
   "execution_count": 67,
   "metadata": {},
   "outputs": [
    {
     "name": "stdout",
     "output_type": "stream",
     "text": [
      "                   20201119_093951\n",
      "Wind onshore                   176\n",
      "Wind offshore                  106\n",
      "PV utility                     118\n",
      "PV residential                 176\n",
      "Wind onshore NonEU               8\n",
      "PV utility NonEU                93\n",
      "RES                            677\n",
      "                   20201119_093951\n",
      "Wind onshore                   138\n",
      "Wind offshore                   84\n",
      "PV utility                      95\n",
      "PV residential                 175\n",
      "Wind onshore NonEU               8\n",
      "PV utility NonEU                90\n",
      "RES                            590\n"
     ]
    }
   ],
   "source": [
    "# Check number of sites per tech\n",
    "nbs_df = pd.DataFrame(columns=cases, index=[\"Wind onshore\", \"Wind offshore\", \"PV utility\", \"PV residential\",\n",
    "                                                  \"Wind onshore NonEU\", \"PV utility NonEU\",  \"RES\"])\n",
    "for case in cases:\n",
    "    net = nets[case]\n",
    "    nbs_df.loc[\"Wind onshore\", case] = len(net.generators[net.generators.type == 'wind_onshore_national'])\n",
    "    nbs_df.loc[\"Wind onshore NonEU\", case] = len(net.generators[net.generators.type == 'wind_onshore_noneu'])\n",
    "    nbs_df.loc[\"Wind offshore\", case] = len(net.generators[net.generators.type == 'wind_offshore_national'])\n",
    "    nbs_df.loc[\"PV utility\", case] = len(net.generators[net.generators.type == 'pv_utility_national'])\n",
    "    nbs_df.loc[\"PV utility NonEU\", case] = len(net.generators[net.generators.type == 'pv_utility_noneu'])\n",
    "    nbs_df.loc[\"PV residential\", case] = len(net.generators[net.generators.type == 'pv_residential_national'])\n",
    "    nbs_df.loc[\"RES\", case] = nbs_df[case].sum()\n",
    "print(nbs_df)\n",
    "\n",
    "nbs_df_c = pd.DataFrame(columns=cases, index=[\"Wind onshore\", \"Wind offshore\", \"PV utility\", \"PV residential\",\n",
    "                                                    \"Wind onshore NonEU\", \"PV utility NonEU\",  \"RES\"])\n",
    "min_cap = 1e-1\n",
    "for case in cases:\n",
    "    net = nets[case]\n",
    "    nbs_df_c.loc[\"Wind onshore\", case] = len(net.generators[(net.generators.type == 'wind_onshore_national') & (net.generators.p_nom_opt > min_cap)])\n",
    "    nbs_df_c.loc[\"Wind onshore NonEU\", case] = len(net.generators[(net.generators.type == 'wind_onshore_noneu') & (net.generators.p_nom_opt > min_cap)])\n",
    "    nbs_df_c.loc[\"Wind offshore\", case] = len(net.generators[(net.generators.type == 'wind_offshore_national') & (net.generators.p_nom_opt > min_cap)])\n",
    "    nbs_df_c.loc[\"PV utility\", case] = len(net.generators[(net.generators.type == 'pv_utility_national') & (net.generators.p_nom_opt > min_cap)])\n",
    "    nbs_df_c.loc[\"PV utility NonEU\", case] = len(net.generators[(net.generators.type == 'pv_utility_noneu') & (net.generators.p_nom_opt > min_cap)])\n",
    "    nbs_df_c.loc[\"PV residential\", case] = len(net.generators[(net.generators.type == 'pv_residential_national') & (net.generators.p_nom_opt > min_cap)])\n",
    "    nbs_df_c.loc[\"RES\", case] = nbs_df_c[case].sum()\n",
    "print(nbs_df_c)\n"
   ]
  },
  {
   "cell_type": "markdown",
   "metadata": {},
   "source": [
    "##### Map of regions"
   ]
  },
  {
   "cell_type": "code",
   "execution_count": 76,
   "metadata": {},
   "outputs": [
    {
     "name": "stdout",
     "output_type": "stream",
     "text": [
      "name\n",
      "Gen wind_onshore_national -10.0-52.0    1.330477\n",
      "Gen wind_onshore_national -10.0-54.0    0.091125\n",
      "Gen wind_onshore_national -8.0-38.0     8.877870\n",
      "Gen wind_onshore_national -8.0-40.0     0.352236\n",
      "Gen wind_onshore_national -8.0-42.0     0.140425\n",
      "                                          ...   \n",
      "Gen wind_onshore_noneu -20.0-64.0       0.189237\n",
      "Gen wind_onshore_noneu -20.0-66.0       1.190666\n",
      "Gen wind_onshore_noneu -18.0-64.0       0.191711\n",
      "Gen wind_onshore_noneu -18.0-66.0       0.114030\n",
      "Gen wind_onshore_noneu -16.0-66.0       1.680805\n",
      "Name: p_nom_opt, Length: 290, dtype: float64\n"
     ]
    },
    {
     "data": {
      "text/plain": [
       "<matplotlib.colorbar.Colorbar at 0x7f857ffdf0d0>"
      ]
     },
     "execution_count": 76,
     "metadata": {},
     "output_type": "execute_result"
    },
    {
     "name": "stderr",
     "output_type": "stream",
     "text": [
      "/home/duboisa1/miniconda3/envs/replan/lib/python3.7/site-packages/cartopy/mpl/geoaxes.py:388: MatplotlibDeprecationWarning:\n",
      "\n",
      "\n",
      "The 'inframe' parameter of draw() was deprecated in Matplotlib 3.3 and will be removed two minor releases later. Use Axes.redraw_in_frame() instead. If any parameter follows 'inframe', they should be passed as keyword, not positionally.\n",
      "\n"
     ]
    },
    {
     "data": {
      "image/png": "[encoded data removed]",
      "text/plain": [
       "<Figure size 936x936 with 2 Axes>"
      ]
     },
     "metadata": {
      "needs_background": "light"
     },
     "output_type": "display_data"
    }
   ],
   "source": [
    "from iepy.topologies.core.plot import plot_topology\n",
    "import shapely.wkt\n",
    "\n",
    "min_cap = 1e-3\n",
    "res_techs = [\"wind_onshore_noneu\", \"wind_onshore_national\", \"wind_offshore_national\"]\n",
    "# Plot region shapes\n",
    "ax = plot_topology(net.buses, net.links)\n",
    "# Find missing generators\n",
    "res_gens = net.generators[(net.generators.type.isin(res_techs)) & (net.generators.p_nom_opt > min_cap)]\n",
    "print(res_gens.p_nom_opt)\n",
    "#print(net.generators[net.generators.bus == \"TN\"])\n",
    "x = res_gens[\"x\"].values\n",
    "y = res_gens[\"y\"].values\n",
    "#values = net.generators_t.p_max_pu[res_gens.index].mean()\n",
    "values = res_gens.p_nom_opt\n",
    "map1 = ax.scatter(x, y, c=values, cmap='Oranges', vmin=0)\n",
    "plt.colorbar(map1, ax=ax)"
   ]
  },
  {
   "cell_type": "markdown",
   "metadata": {},
   "source": [
    "### Transmission"
   ]
  },
  {
   "cell_type": "code",
   "execution_count": 70,
   "metadata": {},
   "outputs": [
    {
     "name": "stdout",
     "output_type": "stream",
     "text": [
      "Added capacity (TWkm):\n",
      "          init  20201119_093951\n",
      "AC  49.002127        67.171217\n",
      "DC  24.637330       141.958451\n",
      "Added capacity in Europe (TWkm):\n",
      "          init  20201119_093951\n",
      "AC  49.002127        64.569798\n",
      "DC  24.637330       113.765025\n"
     ]
    }
   ],
   "source": [
    "# Capacity overall\n",
    "capacities_df = pd.DataFrame(index=[\"AC\", \"DC\"], columns=[\"init\"] + cases)\n",
    "for case in cases:\n",
    "    net = nets[case]\n",
    "    capacities = get_links_capacity(net)\n",
    "    capacities_df[\"init\"] = capacities[\"init [TWkm]\"]\n",
    "    capacities_df[case] = capacities[\"new [TWkm]\"]\n",
    "print(f\"Added capacity (TWkm):\\n {capacities_df}\")\n",
    "\n",
    "# In Europe\n",
    "capacities_eu_df = pd.DataFrame(index=[\"AC\", \"DC\"], columns=[\"init\"] + cases)\n",
    "outside_nodes = regions_dict[\"GLIS\"] + regions_dict[\"NA\"] + regions_dict[\"ME\"]\n",
    "for case in cases:\n",
    "    net = nets[case]\n",
    "    capacities = get_links_capacity(net, outside_nodes)\n",
    "    capacities_eu_df[\"init\"] = capacities[\"init [TWkm]\"]\n",
    "    capacities_eu_df[case] = capacities[\"new [TWkm]\"]\n",
    "print(f\"Added capacity in Europe (TWkm):\\n {capacities_eu_df}\")"
   ]
  },
  {
   "cell_type": "code",
   "execution_count": 71,
   "metadata": {},
   "outputs": [
    {
     "data": {
      "application/vnd.plotly.v1+json": {
       "config": {
        "plotlyServerURL": "https://plot.ly"
       },
       "data": [
        {
         "hoverinfo": "text",
         "lat": [
          41.14228459115937,
          40.66614229557968,
          40.19
         ],
         "line": {
          "color": "rgba(0,0,0,0.8)",
          "width": 3
         },
         "lon": [
          20.068384151449468,
          20.819192075724736,
          21.57
         ],
         "mode": "lines",
         "text": [
          "",
          "Name: AL-GR<br>Init Capacity: 0.25<br>Opt Capacity: 2.8513330515400304",
          ""
         ],
         "type": "scattergeo"
        },
        {
         "hoverinfo": "text",
         "lat": [
          41.14228459115937,
          41.9668043113632,
          42.79132403156703
         ],
         "line": {
          "color": "rgba(0,0,0,0.8)",
          "width": 3
         },
         "lon": [
          20.068384151449468,
          19.660812309734126,
          19.253240468018788
         ],
         "mode": "lines",
         "text": [
          "",
          "Name: AL-ME<br>Init Capacity: 0.4<br>Opt Capacity: 3.329028428549623",
          ""
         ],
         "type": "scattergeo"
        },
        {
         "hoverinfo": "text",
         "lat": [
          41.14228459115937,
          41.37098363023955,
          41.599682669319726
         ],
         "line": {
          "color": "rgba(0,0,0,0.8)",
          "width": 3
         },
         "lon": [
          20.068384151449468,
          20.882929951211814,
          21.69747575097416
         ],
         "mode": "lines",
         "text": [
          "",
          "Name: AL-MK<br>Init Capacity: 0.5<br>Opt Capacity: 0.9339371210693524",
          ""
         ],
         "type": "scattergeo"
        },
        {
         "hoverinfo": "text",
         "lat": [
          41.14228459115937,
          42.587165252728454,
          44.032045914297534
         ],
         "line": {
          "color": "rgba(0,0,0,0.8)",
          "width": 3
         },
         "lon": [
          20.068384151449468,
          20.436920922136764,
          20.80545769282406
         ],
         "mode": "lines",
         "text": [
          "",
          "Name: AL-RS<br>Init Capacity: 0.5<br>Opt Capacity: 0.8371951154225722",
          ""
         ],
         "type": "scattergeo"
        },
        {
         "hoverinfo": "text",
         "lat": [
          47.59290263126028,
          47.19769910414146,
          46.802495577022654
         ],
         "line": {
          "color": "rgba(0,0,0,0.8)",
          "width": 3
         },
         "lon": [
          14.140191772818696,
          11.187291994510364,
          8.234392216202034
         ],
         "mode": "lines",
         "text": [
          "",
          "Name: AT-CH<br>Init Capacity: 1.7<br>Opt Capacity: 1.7023410551351892",
          ""
         ],
         "type": "scattergeo"
        },
        {
         "hoverinfo": "text",
         "lat": [
          47.59290263126028,
          48.667880817012296,
          49.74285900276431
         ],
         "line": {
          "color": "rgba(0,0,0,0.8)",
          "width": 3
         },
         "lon": [
          14.140191772818696,
          14.739301797464783,
          15.33841182211087
         ],
         "mode": "lines",
         "text": [
          "",
          "Name: AT-CZ<br>Init Capacity: 1.2<br>Opt Capacity: 1.2421088714212252",
          ""
         ],
         "type": "scattergeo"
        },
        {
         "hoverinfo": "text",
         "lat": [
          47.59290263126028,
          49.35143421727441,
          51.10996580328854
         ],
         "line": {
          "color": "rgba(0,0,0,0.8)",
          "width": 3
         },
         "lon": [
          14.140191772818696,
          12.266582436010085,
          10.392973099201473
         ],
         "mode": "lines",
         "text": [
          "",
          "Name: AT-DE<br>Init Capacity: 7.5<br>Opt Capacity: 16.581845939295615",
          ""
         ],
         "type": "scattergeo"
        },
        {
         "hoverinfo": "text",
         "lat": [
          47.59290263126028,
          47.37970261264003,
          47.16650259401978
         ],
         "line": {
          "color": "rgba(0,0,0,0.8)",
          "width": 3
         },
         "lon": [
          14.140191772818696,
          16.776820428920345,
          19.413449085022
         ],
         "mode": "lines",
         "text": [
          "",
          "Name: AT-HU<br>Init Capacity: 1.2<br>Opt Capacity: 3.2574048490612624",
          ""
         ],
         "type": "scattergeo"
        },
        {
         "hoverinfo": "text",
         "lat": [
          47.59290263126028,
          45.19086754737628,
          42.78883246349228
         ],
         "line": {
          "color": "rgba(0,0,0,0.8)",
          "width": 3
         },
         "lon": [
          14.140191772818696,
          13.109853672375912,
          12.079515571933127
         ],
         "mode": "lines",
         "text": [
          "",
          "Name: AT-IT<br>Init Capacity: 1.05<br>Opt Capacity: 1.4760132410521605",
          ""
         ],
         "type": "scattergeo"
        },
        {
         "hoverinfo": "text",
         "lat": [
          47.59290263126028,
          46.85823301704528,
          46.12356340283028
         ],
         "line": {
          "color": "rgba(0,0,0,0.8)",
          "width": 3
         },
         "lon": [
          14.140191772818696,
          14.483364090941755,
          14.826536409064815
         ],
         "mode": "lines",
         "text": [
          "",
          "Name: AT-SI<br>Init Capacity: 1.2<br>Opt Capacity: 14.148445840930783",
          ""
         ],
         "type": "scattergeo"
        },
        {
         "hoverinfo": "text",
         "lat": [
          44.16811507125081,
          44.95235753562541,
          45.7366
         ],
         "line": {
          "color": "rgba(0,0,0,0.8)",
          "width": 3
         },
         "lon": [
          17.78653099912207,
          16.838265499561036,
          15.89
         ],
         "mode": "lines",
         "text": [
          "",
          "Name: BA-HR<br>Init Capacity: 1.25<br>Opt Capacity: 4.338570315046417",
          ""
         ],
         "type": "scattergeo"
        },
        {
         "hoverinfo": "text",
         "lat": [
          44.16811507125081,
          43.47971955140892,
          42.79132403156703
         ],
         "line": {
          "color": "rgba(0,0,0,0.8)",
          "width": 3
         },
         "lon": [
          17.78653099912207,
          18.51988573357043,
          19.253240468018788
         ],
         "mode": "lines",
         "text": [
          "",
          "Name: BA-ME<br>Init Capacity: 0.8<br>Opt Capacity: 2.7374250681319934",
          ""
         ],
         "type": "scattergeo"
        },
        {
         "hoverinfo": "text",
         "lat": [
          44.16811507125081,
          44.10008049277417,
          44.032045914297534
         ],
         "line": {
          "color": "rgba(0,0,0,0.8)",
          "width": 3
         },
         "lon": [
          17.78653099912207,
          19.295994345973064,
          20.80545769282406
         ],
         "mode": "lines",
         "text": [
          "",
          "Name: BA-RS<br>Init Capacity: 1.2<br>Opt Capacity: 1.2846229854633564",
          ""
         ],
         "type": "scattergeo"
        },
        {
         "hoverinfo": "text",
         "lat": [
          50.6428512327746,
          50.87640851803157,
          51.10996580328854
         ],
         "line": {
          "color": "rgba(0,0,0,0.8)",
          "width": 3
         },
         "lon": [
          4.663988676898716,
          7.528480888050095,
          10.392973099201473
         ],
         "mode": "lines",
         "text": [
          "",
          "Name: BE-DE<br>Init Capacity: 1.0<br>Opt Capacity: 1.007049017216197",
          ""
         ],
         "type": "scattergeo"
        },
        {
         "hoverinfo": "text",
         "lat": [
          50.6428512327746,
          48.60348280504143,
          46.56411437730826
         ],
         "line": {
          "color": "rgba(0,0,0,0.8)",
          "width": 3
         },
         "lon": [
          4.663988676898716,
          3.606317914329796,
          2.5486471517608758
         ],
         "mode": "lines",
         "text": [
          "",
          "Name: BE-FR<br>Init Capacity: 4.3<br>Opt Capacity: 4.300015444432725",
          ""
         ],
         "type": "scattergeo"
        },
        {
         "hoverinfo": "text",
         "lat": [
          50.6428512327746,
          51.676825616387305,
          52.7108
         ],
         "line": {
          "color": "rgba(150,150,150,0.8)",
          "width": 3
         },
         "lon": [
          4.663988676898716,
          1.6911943384493582,
          -1.2816
         ],
         "mode": "lines",
         "text": [
          "",
          "Name: BE-GB<br>Init Capacity: 1.0<br>Opt Capacity: 14.12612786646039",
          ""
         ],
         "type": "scattergeo"
        },
        {
         "hoverinfo": "text",
         "lat": [
          50.6428512327746,
          50.20673959739746,
          49.77062796202031
         ],
         "line": {
          "color": "rgba(0,0,0,0.8)",
          "width": 3
         },
         "lon": [
          4.663988676898716,
          5.3759011511628145,
          6.0878136254269135
         ],
         "mode": "lines",
         "text": [
          "",
          "Name: BE-LU<br>Init Capacity: 0.68<br>Opt Capacity: 2.030378182854427",
          ""
         ],
         "type": "scattergeo"
        },
        {
         "hoverinfo": "text",
         "lat": [
          50.6428512327746,
          51.44717129522401,
          52.25149135767342
         ],
         "line": {
          "color": "rgba(0,0,0,0.8)",
          "width": 3
         },
         "lon": [
          4.663988676898716,
          5.132408843825438,
          5.600829010752159
         ],
         "mode": "lines",
         "text": [
          "",
          "Name: BE-NL<br>Init Capacity: 3.4<br>Opt Capacity: 3.402952550611364",
          ""
         ],
         "type": "scattergeo"
        },
        {
         "hoverinfo": "text",
         "lat": [
          42.76137671517489,
          41.475688357587444,
          40.19
         ],
         "line": {
          "color": "rgba(0,0,0,0.8)",
          "width": 3
         },
         "lon": [
          25.231507004214954,
          23.400753502107477,
          21.57
         ],
         "mode": "lines",
         "text": [
          "",
          "Name: BG-GR<br>Init Capacity: 1.35<br>Opt Capacity: 1.3519791651382844",
          ""
         ],
         "type": "scattergeo"
        },
        {
         "hoverinfo": "text",
         "lat": [
          42.76137671517489,
          42.180529692247305,
          41.599682669319726
         ],
         "line": {
          "color": "rgba(0,0,0,0.8)",
          "width": 3
         },
         "lon": [
          25.231507004214954,
          23.464491377594555,
          21.69747575097416
         ],
         "mode": "lines",
         "text": [
          "",
          "Name: BG-MK<br>Init Capacity: 0.5<br>Opt Capacity: 0.6199675742708828",
          ""
         ],
         "type": "scattergeo"
        },
        {
         "hoverinfo": "text",
         "lat": [
          42.76137671517489,
          44.30249573106239,
          45.8436147469499
         ],
         "line": {
          "color": "rgba(0,0,0,0.8)",
          "width": 3
         },
         "lon": [
          25.231507004214954,
          25.100382744448716,
          24.969258484682477
         ],
         "mode": "lines",
         "text": [
          "",
          "Name: BG-RO<br>Init Capacity: 1.5<br>Opt Capacity: 12.80068554940145",
          ""
         ],
         "type": "scattergeo"
        },
        {
         "hoverinfo": "text",
         "lat": [
          42.76137671517489,
          43.39671131473621,
          44.032045914297534
         ],
         "line": {
          "color": "rgba(0,0,0,0.8)",
          "width": 3
         },
         "lon": [
          25.231507004214954,
          23.018482348519505,
          20.80545769282406
         ],
         "mode": "lines",
         "text": [
          "",
          "Name: BG-RS<br>Init Capacity: 0.35<br>Opt Capacity: 7.41805854503905",
          ""
         ],
         "type": "scattergeo"
        },
        {
         "hoverinfo": "text",
         "lat": [
          42.76137671517489,
          40.91104426430375,
          39.060711813432604
         ],
         "line": {
          "color": "rgba(0,0,0,0.8)",
          "width": 3
         },
         "lon": [
          25.231507004214954,
          30.2025821471583,
          35.173657290101644
         ],
         "mode": "lines",
         "text": [
          "",
          "Name: BG-TR<br>Init Capacity: 1.2<br>Opt Capacity: 20.79143474855705",
          ""
         ],
         "type": "scattergeo"
        },
        {
         "hoverinfo": "text",
         "lat": [
          46.802495577022654,
          48.95623069015559,
          51.10996580328854
         ],
         "line": {
          "color": "rgba(0,0,0,0.8)",
          "width": 3
         },
         "lon": [
          8.234392216202034,
          9.313682657701754,
          10.392973099201473
         ],
         "mode": "lines",
         "text": [
          "",
          "Name: CH-DE<br>Init Capacity: 5.6<br>Opt Capacity: 5.608190146928201",
          ""
         ],
         "type": "scattergeo"
        },
        {
         "hoverinfo": "text",
         "lat": [
          46.802495577022654,
          46.683304977165456,
          46.56411437730826
         ],
         "line": {
          "color": "rgba(0,0,0,0.8)",
          "width": 3
         },
         "lon": [
          8.234392216202034,
          5.391519683981455,
          2.5486471517608758
         ],
         "mode": "lines",
         "text": [
          "",
          "Name: CH-FR<br>Init Capacity: 3.7<br>Opt Capacity: 8.79550028699822",
          ""
         ],
         "type": "scattergeo"
        },
        {
         "hoverinfo": "text",
         "lat": [
          46.802495577022654,
          44.79566402025746,
          42.78883246349228
         ],
         "line": {
          "color": "rgba(0,0,0,0.8)",
          "width": 3
         },
         "lon": [
          8.234392216202034,
          10.15695389406758,
          12.079515571933127
         ],
         "mode": "lines",
         "text": [
          "",
          "Name: CH-IT<br>Init Capacity: 6.0<br>Opt Capacity: 7.101470783530893",
          ""
         ],
         "type": "scattergeo"
        },
        {
         "hoverinfo": "text",
         "lat": [
          49.74285900276431,
          50.426412403026426,
          51.10996580328854
         ],
         "line": {
          "color": "rgba(0,0,0,0.8)",
          "width": 3
         },
         "lon": [
          15.33841182211087,
          12.865692460656172,
          10.392973099201473
         ],
         "mode": "lines",
         "text": [
          "",
          "Name: CZ-DE<br>Init Capacity: 2.6<br>Opt Capacity: 5.515963668460434",
          ""
         ],
         "type": "scattergeo"
        },
        {
         "hoverinfo": "text",
         "lat": [
          49.74285900276431,
          50.9337344504286,
          52.1246098980929
         ],
         "line": {
          "color": "rgba(0,0,0,0.8)",
          "width": 3
         },
         "lon": [
          15.33841182211087,
          17.36964783489788,
          19.400883847684888
         ],
         "mode": "lines",
         "text": [
          "",
          "Name: CZ-PL<br>Init Capacity: 1.2<br>Opt Capacity: 1.202223346002594",
          ""
         ],
         "type": "scattergeo"
        },
        {
         "hoverinfo": "text",
         "lat": [
          49.74285900276431,
          49.22519492702851,
          48.70753085129272
         ],
         "line": {
          "color": "rgba(0,0,0,0.8)",
          "width": 3
         },
         "lon": [
          15.33841182211087,
          17.415031442905562,
          19.491651063700253
         ],
         "mode": "lines",
         "text": [
          "",
          "Name: CZ-SK<br>Init Capacity: 1.8<br>Opt Capacity: 2.276475979269406",
          ""
         ],
         "type": "scattergeo"
        },
        {
         "hoverinfo": "text",
         "lat": [
          51.10996580328854,
          53.65483290164427,
          56.1997
         ],
         "line": {
          "color": "rgba(0,0,0,0.8)",
          "width": 3
         },
         "lon": [
          10.392973099201473,
          9.707836549600737,
          9.0227
         ],
         "mode": "lines",
         "text": [
          "",
          "Name: DE-DK<br>Init Capacity: 4.0<br>Opt Capacity: 4.000029366817299",
          ""
         ],
         "type": "scattergeo"
        },
        {
         "hoverinfo": "text",
         "lat": [
          51.10996580328854,
          48.8370400902984,
          46.56411437730826
         ],
         "line": {
          "color": "rgba(0,0,0,0.8)",
          "width": 3
         },
         "lon": [
          10.392973099201473,
          6.470810125481174,
          2.5486471517608758
         ],
         "mode": "lines",
         "text": [
          "",
          "Name: DE-FR<br>Init Capacity: 4.5<br>Opt Capacity: 4.501061739879943",
          ""
         ],
         "type": "scattergeo"
        },
        {
         "hoverinfo": "text",
         "lat": [
          51.10996580328854,
          51.91038290164427,
          52.7108
         ],
         "line": {
          "color": "rgba(150,150,150,0.8)",
          "width": 3
         },
         "lon": [
          10.392973099201473,
          4.555686549600736,
          -1.2816
         ],
         "mode": "lines",
         "text": [
          "",
          "Name: DE-GB<br>Init Capacity: 1.4<br>Opt Capacity: 58.486438986319506",
          ""
         ],
         "type": "scattergeo"
        },
        {
         "hoverinfo": "text",
         "lat": [
          51.10996580328854,
          50.44029688265442,
          49.77062796202031
         ],
         "line": {
          "color": "rgba(0,0,0,0.8)",
          "width": 3
         },
         "lon": [
          10.392973099201473,
          8.240393362314194,
          6.0878136254269135
         ],
         "mode": "lines",
         "text": [
          "",
          "Name: DE-LU<br>Init Capacity: 2.3<br>Opt Capacity: 2.304457124814257",
          ""
         ],
         "type": "scattergeo"
        },
        {
         "hoverinfo": "text",
         "lat": [
          51.10996580328854,
          51.68072858048098,
          52.25149135767342
         ],
         "line": {
          "color": "rgba(0,0,0,0.8)",
          "width": 3
         },
         "lon": [
          10.392973099201473,
          7.996901054976816,
          5.600829010752159
         ],
         "mode": "lines",
         "text": [
          "",
          "Name: DE-NL<br>Init Capacity: 5.0<br>Opt Capacity: 5.0001781999912565",
          ""
         ],
         "type": "scattergeo"
        },
        {
         "hoverinfo": "text",
         "lat": [
          51.10996580328854,
          55.67578290164427,
          60.2416
         ],
         "line": {
          "color": "rgba(150,150,150,0.8)",
          "width": 3
         },
         "lon": [
          10.392973099201473,
          10.322136549600737,
          10.2513
         ],
         "mode": "lines",
         "text": [
          "",
          "Name: DE-NO<br>Init Capacity: 1.4<br>Opt Capacity: 1.401418016546574",
          ""
         ],
         "type": "scattergeo"
        },
        {
         "hoverinfo": "text",
         "lat": [
          51.10996580328854,
          51.617287850690715,
          52.1246098980929
         ],
         "line": {
          "color": "rgba(0,0,0,0.8)",
          "width": 3
         },
         "lon": [
          10.392973099201473,
          14.89692847344318,
          19.400883847684888
         ],
         "mode": "lines",
         "text": [
          "",
          "Name: DE-PL<br>Init Capacity: 5.0<br>Opt Capacity: 8.793387836146874",
          ""
         ],
         "type": "scattergeo"
        },
        {
         "hoverinfo": "text",
         "lat": [
          51.10996580328854,
          55.22428290164427,
          59.3386
         ],
         "line": {
          "color": "rgba(150,150,150,0.8)",
          "width": 3
         },
         "lon": [
          10.392973099201473,
          12.803386549600738,
          15.2138
         ],
         "mode": "lines",
         "text": [
          "",
          "Name: DE-SE<br>Init Capacity: 1.315<br>Opt Capacity: 1.316885862707862",
          ""
         ],
         "type": "scattergeo"
        },
        {
         "hoverinfo": "text",
         "lat": [
          56.1997,
          54.45525,
          52.7108
         ],
         "line": {
          "color": "rgba(150,150,150,0.8)",
          "width": 3
         },
         "lon": [
          9.0227,
          3.87055,
          -1.2816
         ],
         "mode": "lines",
         "text": [
          "",
          "Name: DK-GB<br>Init Capacity: 1.4<br>Opt Capacity: 3.4101759396344264",
          ""
         ],
         "type": "scattergeo"
        },
        {
         "hoverinfo": "text",
         "lat": [
          56.1997,
          54.22559567883671,
          52.25149135767342
         ],
         "line": {
          "color": "rgba(150,150,150,0.8)",
          "width": 3
         },
         "lon": [
          9.0227,
          7.31176450537608,
          5.600829010752159
         ],
         "mode": "lines",
         "text": [
          "",
          "Name: DK-NL<br>Init Capacity: 0.7<br>Opt Capacity: 1.044334260919353",
          ""
         ],
         "type": "scattergeo"
        },
        {
         "hoverinfo": "text",
         "lat": [
          56.1997,
          58.22065,
          60.2416
         ],
         "line": {
          "color": "rgba(150,150,150,0.8)",
          "width": 3
         },
         "lon": [
          9.0227,
          9.637,
          10.2513
         ],
         "mode": "lines",
         "text": [
          "",
          "Name: DK-NO<br>Init Capacity: 1.7<br>Opt Capacity: 5.591007923810328",
          ""
         ],
         "type": "scattergeo"
        },
        {
         "hoverinfo": "text",
         "lat": [
          56.1997,
          54.16215494904645,
          52.1246098980929
         ],
         "line": {
          "color": "rgba(150,150,150,0.8)",
          "width": 3
         },
         "lon": [
          9.0227,
          14.211791923842444,
          19.400883847684888
         ],
         "mode": "lines",
         "text": [
          "",
          "Name: DK-PL<br>Init Capacity: 0.0<br>Opt Capacity: 1.7854620686935063",
          ""
         ],
         "type": "scattergeo"
        },
        {
         "hoverinfo": "text",
         "lat": [
          56.1997,
          57.769149999999996,
          59.3386
         ],
         "line": {
          "color": "rgba(150,150,150,0.8)",
          "width": 3
         },
         "lon": [
          9.0227,
          12.11825,
          15.2138
         ],
         "mode": "lines",
         "text": [
          "",
          "Name: DK-SE<br>Init Capacity: 2.44<br>Opt Capacity: 2.4418863009337946",
          ""
         ],
         "type": "scattergeo"
        },
        {
         "hoverinfo": "text",
         "lat": [
          58.67723182926178,
          59.868615914630894,
          61.06
         ],
         "line": {
          "color": "rgba(150,150,150,0.8)",
          "width": 3
         },
         "lon": [
          25.51809107372305,
          25.169045536861525,
          24.82
         ],
         "mode": "lines",
         "text": [
          "",
          "Name: EE-FI<br>Init Capacity: 1.016<br>Opt Capacity: 7.137982756609569",
          ""
         ],
         "type": "scattergeo"
        },
        {
         "hoverinfo": "text",
         "lat": [
          58.67723182926178,
          57.76738319164674,
          56.857534554031716
         ],
         "line": {
          "color": "rgba(0,0,0,0.8)",
          "width": 3
         },
         "lon": [
          25.51809107372305,
          25.223758010398306,
          24.929424947073564
         ],
         "mode": "lines",
         "text": [
          "",
          "Name: EE-LV<br>Init Capacity: 1.379<br>Opt Capacity: 5.724448487642062",
          ""
         ],
         "type": "scattergeo"
        },
        {
         "hoverinfo": "text",
         "lat": [
          40.38280053315611,
          43.47345745523218,
          46.56411437730826
         ],
         "line": {
          "color": "rgba(150,150,150,0.8)",
          "width": 3
         },
         "lon": [
          -3.4901513397485537,
          -0.470752093993839,
          2.5486471517608758
         ],
         "mode": "lines",
         "text": [
          "",
          "Name: ES-FR<br>Init Capacity: 5.0<br>Opt Capacity: 15.439178606258274",
          ""
         ],
         "type": "scattergeo"
        },
        {
         "hoverinfo": "text",
         "lat": [
          40.38280053315611,
          40.03571374853007,
          39.688626963904035
         ],
         "line": {
          "color": "rgba(0,0,0,0.8)",
          "width": 3
         },
         "lon": [
          -3.4901513397485537,
          -5.727701940298845,
          -7.965252540849135
         ],
         "mode": "lines",
         "text": [
          "",
          "Name: ES-PT<br>Init Capacity: 4.2<br>Opt Capacity: 4.208579565819671",
          ""
         ],
         "type": "scattergeo"
        },
        {
         "hoverinfo": "text",
         "lat": [
          61.06,
          60.650800000000004,
          60.2416
         ],
         "line": {
          "color": "rgba(0,0,0,0.8)",
          "width": 3
         },
         "lon": [
          24.82,
          17.53565,
          10.2513
         ],
         "mode": "lines",
         "text": [
          "",
          "Name: FI-NO<br>Init Capacity: 0.0<br>Opt Capacity: 0.6721389037451229",
          ""
         ],
         "type": "scattergeo"
        },
        {
         "hoverinfo": "text",
         "lat": [
          61.06,
          60.1993,
          59.3386
         ],
         "line": {
          "color": "rgba(0,0,0,0.8)",
          "width": 3
         },
         "lon": [
          24.82,
          20.0169,
          15.2138
         ],
         "mode": "lines",
         "text": [
          "",
          "Name: FI-SE<br>Init Capacity: 3.2<br>Opt Capacity: 3.2002579414268744",
          ""
         ],
         "type": "scattergeo"
        },
        {
         "hoverinfo": "text",
         "lat": [
          46.56411437730826,
          49.637457188654125,
          52.7108
         ],
         "line": {
          "color": "rgba(150,150,150,0.8)",
          "width": 3
         },
         "lon": [
          2.5486471517608758,
          0.6335235758804378,
          -1.2816
         ],
         "mode": "lines",
         "text": [
          "",
          "Name: FR-GB<br>Init Capacity: 6.9<br>Opt Capacity: 13.894740430454528",
          ""
         ],
         "type": "scattergeo"
        },
        {
         "hoverinfo": "text",
         "lat": [
          46.56411437730826,
          49.869245621025485,
          53.17437686474271
         ],
         "line": {
          "color": "rgba(150,150,150,0.8)",
          "width": 3
         },
         "lon": [
          2.5486471517608758,
          -2.8016482871618034,
          -8.151943726084482
         ],
         "mode": "lines",
         "text": [
          "",
          "Name: FR-IE<br>Init Capacity: 0.0<br>Opt Capacity: 14.509295746375749",
          ""
         ],
         "type": "scattergeo"
        },
        {
         "hoverinfo": "text",
         "lat": [
          46.56411437730826,
          44.67647342040027,
          42.78883246349228
         ],
         "line": {
          "color": "rgba(0,0,0,0.8)",
          "width": 3
         },
         "lon": [
          2.5486471517608758,
          7.314081361847002,
          12.079515571933127
         ],
         "mode": "lines",
         "text": [
          "",
          "Name: FR-IT<br>Init Capacity: 4.55<br>Opt Capacity: 8.164717961582559",
          ""
         ],
         "type": "scattergeo"
        },
        {
         "hoverinfo": "text",
         "lat": [
          46.56411437730826,
          48.167371169664285,
          49.77062796202031
         ],
         "line": {
          "color": "rgba(0,0,0,0.8)",
          "width": 3
         },
         "lon": [
          2.5486471517608758,
          4.318230388593895,
          6.0878136254269135
         ],
         "mode": "lines",
         "text": [
          "",
          "Name: FR-LU<br>Init Capacity: 0.38<br>Opt Capacity: 0.38188706910397135",
          ""
         ],
         "type": "scattergeo"
        },
        {
         "hoverinfo": "text",
         "lat": [
          52.7108,
          52.94258843237135,
          53.17437686474271
         ],
         "line": {
          "color": "rgba(150,150,150,0.8)",
          "width": 3
         },
         "lon": [
          -1.2816,
          -4.716771863042242,
          -8.151943726084482
         ],
         "mode": "lines",
         "text": [
          "",
          "Name: GB-IE<br>Init Capacity: 0.5<br>Opt Capacity: 17.8804926617866",
          ""
         ],
         "type": "scattergeo"
        },
        {
         "hoverinfo": "text",
         "lat": [
          52.7108,
          52.48114567883671,
          52.25149135767342
         ],
         "line": {
          "color": "rgba(150,150,150,0.8)",
          "width": 3
         },
         "lon": [
          -1.2816,
          2.1596145053760796,
          5.600829010752159
         ],
         "mode": "lines",
         "text": [
          "",
          "Name: GB-NL<br>Init Capacity: 1.0<br>Opt Capacity: 5.382265113053718",
          ""
         ],
         "type": "scattergeo"
        },
        {
         "hoverinfo": "text",
         "lat": [
          52.7108,
          56.4762,
          60.2416
         ],
         "line": {
          "color": "rgba(150,150,150,0.8)",
          "width": 3
         },
         "lon": [
          -1.2816,
          4.48485,
          10.2513
         ],
         "mode": "lines",
         "text": [
          "",
          "Name: GB-NO<br>Init Capacity: 2.8<br>Opt Capacity: 10.22366649985256",
          ""
         ],
         "type": "scattergeo"
        },
        {
         "hoverinfo": "text",
         "lat": [
          40.19,
          41.489416231746134,
          42.78883246349228
         ],
         "line": {
          "color": "rgba(150,150,150,0.8)",
          "width": 3
         },
         "lon": [
          21.57,
          16.824757785966565,
          12.079515571933127
         ],
         "mode": "lines",
         "text": [
          "",
          "Name: GR-IT<br>Init Capacity: 0.5<br>Opt Capacity: 1.5487100895020045",
          ""
         ],
         "type": "scattergeo"
        },
        {
         "hoverinfo": "text",
         "lat": [
          40.19,
          40.89484133465986,
          41.599682669319726
         ],
         "line": {
          "color": "rgba(0,0,0,0.8)",
          "width": 3
         },
         "lon": [
          21.57,
          21.63373787548708,
          21.69747575097416
         ],
         "mode": "lines",
         "text": [
          "",
          "Name: GR-MK<br>Init Capacity: 1.2<br>Opt Capacity: 1.721514050396252",
          ""
         ],
         "type": "scattergeo"
        },
        {
         "hoverinfo": "text",
         "lat": [
          40.19,
          39.6253559067163,
          39.060711813432604
         ],
         "line": {
          "color": "rgba(150,150,150,0.8)",
          "width": 3
         },
         "lon": [
          21.57,
          28.371828645050822,
          35.173657290101644
         ],
         "mode": "lines",
         "text": [
          "",
          "Name: GR-TR<br>Init Capacity: 0.66<br>Opt Capacity: 1.7916007966213139",
          ""
         ],
         "type": "scattergeo"
        },
        {
         "hoverinfo": "text",
         "lat": [
          45.7366,
          46.45155129700989,
          47.16650259401978
         ],
         "line": {
          "color": "rgba(0,0,0,0.8)",
          "width": 3
         },
         "lon": [
          15.89,
          17.651724542510998,
          19.413449085022
         ],
         "mode": "lines",
         "text": [
          "",
          "Name: HR-HU<br>Init Capacity: 2.0<br>Opt Capacity: 2.0035916978289525",
          ""
         ],
         "type": "scattergeo"
        },
        {
         "hoverinfo": "text",
         "lat": [
          45.7366,
          44.88432295714877,
          44.032045914297534
         ],
         "line": {
          "color": "rgba(0,0,0,0.8)",
          "width": 3
         },
         "lon": [
          15.89,
          18.347728846412032,
          20.80545769282406
         ],
         "mode": "lines",
         "text": [
          "",
          "Name: HR-RS<br>Init Capacity: 0.6<br>Opt Capacity: 5.896560597993612",
          ""
         ],
         "type": "scattergeo"
        },
        {
         "hoverinfo": "text",
         "lat": [
          45.7366,
          45.93008170141514,
          46.12356340283028
         ],
         "line": {
          "color": "rgba(0,0,0,0.8)",
          "width": 3
         },
         "lon": [
          15.89,
          15.358268204532408,
          14.826536409064815
         ],
         "mode": "lines",
         "text": [
          "",
          "Name: HR-SI<br>Init Capacity: 2.0<br>Opt Capacity: 13.67666650140882",
          ""
         ],
         "type": "scattergeo"
        },
        {
         "hoverinfo": "text",
         "lat": [
          47.16650259401978,
          46.50505867048484,
          45.8436147469499
         ],
         "line": {
          "color": "rgba(0,0,0,0.8)",
          "width": 3
         },
         "lon": [
          19.413449085022,
          22.19135378485224,
          24.969258484682477
         ],
         "mode": "lines",
         "text": [
          "",
          "Name: HU-RO<br>Init Capacity: 1.4<br>Opt Capacity: 13.480951535866295",
          ""
         ],
         "type": "scattergeo"
        },
        {
         "hoverinfo": "text",
         "lat": [
          47.16650259401978,
          45.59927425415866,
          44.032045914297534
         ],
         "line": {
          "color": "rgba(0,0,0,0.8)",
          "width": 3
         },
         "lon": [
          19.413449085022,
          20.10945338892303,
          20.80545769282406
         ],
         "mode": "lines",
         "text": [
          "",
          "Name: HU-RS<br>Init Capacity: 0.6<br>Opt Capacity: 2.5142484487404886",
          ""
         ],
         "type": "scattergeo"
        },
        {
         "hoverinfo": "text",
         "lat": [
          47.16650259401978,
          46.64503299842503,
          46.12356340283028
         ],
         "line": {
          "color": "rgba(0,0,0,0.8)",
          "width": 3
         },
         "lon": [
          19.413449085022,
          17.119992747043405,
          14.826536409064815
         ],
         "mode": "lines",
         "text": [
          "",
          "Name: HU-SI<br>Init Capacity: 1.2<br>Opt Capacity: 1.202357653492065",
          ""
         ],
         "type": "scattergeo"
        },
        {
         "hoverinfo": "text",
         "lat": [
          47.16650259401978,
          47.93701672265625,
          48.70753085129272
         ],
         "line": {
          "color": "rgba(0,0,0,0.8)",
          "width": 3
         },
         "lon": [
          19.413449085022,
          19.452550074361127,
          19.491651063700253
         ],
         "mode": "lines",
         "text": [
          "",
          "Name: HU-SK<br>Init Capacity: 2.0<br>Opt Capacity: 10.46976012210429",
          ""
         ],
         "type": "scattergeo"
        },
        {
         "hoverinfo": "text",
         "lat": [
          42.78883246349228,
          42.79007824752965,
          42.79132403156703
         ],
         "line": {
          "color": "rgba(150,150,150,0.8)",
          "width": 3
         },
         "lon": [
          12.079515571933127,
          15.666378019975959,
          19.253240468018788
         ],
         "mode": "lines",
         "text": [
          "",
          "Name: IT-ME<br>Init Capacity: 1.2<br>Opt Capacity: 1.3461194337662148",
          ""
         ],
         "type": "scattergeo"
        },
        {
         "hoverinfo": "text",
         "lat": [
          42.78883246349228,
          44.45619793316128,
          46.12356340283028
         ],
         "line": {
          "color": "rgba(0,0,0,0.8)",
          "width": 3
         },
         "lon": [
          12.079515571933127,
          13.453025990498972,
          14.826536409064815
         ],
         "mode": "lines",
         "text": [
          "",
          "Name: IT-SI<br>Init Capacity: 1.895<br>Opt Capacity: 1.8977986501188209",
          ""
         ],
         "type": "scattergeo"
        },
        {
         "hoverinfo": "text",
         "lat": [
          55.33726831230646,
          56.09740143316909,
          56.857534554031716
         ],
         "line": {
          "color": "rgba(0,0,0,0.8)",
          "width": 3
         },
         "lon": [
          23.894859234965374,
          24.41214209101947,
          24.929424947073564
         ],
         "mode": "lines",
         "text": [
          "",
          "Name: LT-LV<br>Init Capacity: 1.5<br>Opt Capacity: 5.463826021337348",
          ""
         ],
         "type": "scattergeo"
        },
        {
         "hoverinfo": "text",
         "lat": [
          55.33726831230646,
          53.73093910519968,
          52.1246098980929
         ],
         "line": {
          "color": "rgba(0,0,0,0.8)",
          "width": 3
         },
         "lon": [
          23.894859234965374,
          21.64787154132513,
          19.400883847684888
         ],
         "mode": "lines",
         "text": [
          "",
          "Name: LT-PL<br>Init Capacity: 1.0<br>Opt Capacity: 5.741790243304732",
          ""
         ],
         "type": "scattergeo"
        },
        {
         "hoverinfo": "text",
         "lat": [
          55.33726831230646,
          57.33793415615323,
          59.3386
         ],
         "line": {
          "color": "rgba(150,150,150,0.8)",
          "width": 3
         },
         "lon": [
          23.894859234965374,
          19.554329617482686,
          15.2138
         ],
         "mode": "lines",
         "text": [
          "",
          "Name: LT-SE<br>Init Capacity: 0.7<br>Opt Capacity: 0.7499661532780497",
          ""
         ],
         "type": "scattergeo"
        },
        {
         "hoverinfo": "text",
         "lat": [
          42.79132403156703,
          43.41168497293228,
          44.032045914297534
         ],
         "line": {
          "color": "rgba(0,0,0,0.8)",
          "width": 3
         },
         "lon": [
          19.253240468018788,
          20.029349080421426,
          20.80545769282406
         ],
         "mode": "lines",
         "text": [
          "",
          "Name: ME-RS<br>Init Capacity: 0.7<br>Opt Capacity: 1.1217753781326982",
          ""
         ],
         "type": "scattergeo"
        },
        {
         "hoverinfo": "text",
         "lat": [
          41.599682669319726,
          42.81586429180863,
          44.032045914297534
         ],
         "line": {
          "color": "rgba(0,0,0,0.8)",
          "width": 3
         },
         "lon": [
          21.69747575097416,
          21.25146672189911,
          20.80545769282406
         ],
         "mode": "lines",
         "text": [
          "",
          "Name: MK-RS<br>Init Capacity: 0.75<br>Opt Capacity: 1.4622826458447231",
          ""
         ],
         "type": "scattergeo"
        },
        {
         "hoverinfo": "text",
         "lat": [
          52.25149135767342,
          56.24654567883671,
          60.2416
         ],
         "line": {
          "color": "rgba(150,150,150,0.8)",
          "width": 3
         },
         "lon": [
          5.600829010752159,
          7.92606450537608,
          10.2513
         ],
         "mode": "lines",
         "text": [
          "",
          "Name: NL-NO<br>Init Capacity: 0.7<br>Opt Capacity: 0.7401448685188092",
          ""
         ],
         "type": "scattergeo"
        },
        {
         "hoverinfo": "text",
         "lat": [
          60.2416,
          59.790099999999995,
          59.3386
         ],
         "line": {
          "color": "rgba(0,0,0,0.8)",
          "width": 3
         },
         "lon": [
          10.2513,
          12.73255,
          15.2138
         ],
         "mode": "lines",
         "text": [
          "",
          "Name: NO-SE<br>Init Capacity: 4.145<br>Opt Capacity: 9.473850888740394",
          ""
         ],
         "type": "scattergeo"
        },
        {
         "hoverinfo": "text",
         "lat": [
          52.1246098980929,
          55.73160494904645,
          59.3386
         ],
         "line": {
          "color": "rgba(150,150,150,0.8)",
          "width": 3
         },
         "lon": [
          19.400883847684888,
          17.307341923842444,
          15.2138
         ],
         "mode": "lines",
         "text": [
          "",
          "Name: PL-SE<br>Init Capacity: 0.6<br>Opt Capacity: 5.414317096241086",
          ""
         ],
         "type": "scattergeo"
        },
        {
         "hoverinfo": "text",
         "lat": [
          52.1246098980929,
          50.41607037469281,
          48.70753085129272
         ],
         "line": {
          "color": "rgba(0,0,0,0.8)",
          "width": 3
         },
         "lon": [
          19.400883847684888,
          19.44626745569257,
          19.491651063700253
         ],
         "mode": "lines",
         "text": [
          "",
          "Name: PL-SK<br>Init Capacity: 1.98<br>Opt Capacity: 6.372113876740757",
          ""
         ],
         "type": "scattergeo"
        },
        {
         "hoverinfo": "text",
         "lat": [
          45.8436147469499,
          44.93783033062372,
          44.032045914297534
         ],
         "line": {
          "color": "rgba(0,0,0,0.8)",
          "width": 3
         },
         "lon": [
          24.969258484682477,
          22.887358088753267,
          20.80545769282406
         ],
         "mode": "lines",
         "text": [
          "",
          "Name: RO-RS<br>Init Capacity: 1.3<br>Opt Capacity: 3.9337869010803663",
          ""
         ],
         "type": "scattergeo"
        },
        {
         "hoverinfo": "text",
         "lat": [
          64.99758844184284,
          58.854194220921414,
          52.7108
         ],
         "line": {
          "color": "rgba(150,150,150,0.8)",
          "width": 3
         },
         "lon": [
          -18.60546679620677,
          -9.943533398103385,
          -1.2816
         ],
         "mode": "lines",
         "text": [
          "",
          "Name: IS-GB<br>Init Capacity: 0.0<br>Opt Capacity: 6.552107356858457",
          ""
         ],
         "type": "scattergeo"
        },
        {
         "hoverinfo": "text",
         "lat": [
          60,
          62.49879422092142,
          64.99758844184284
         ],
         "line": {
          "color": "rgba(150,150,150,0.8)",
          "width": 3
         },
         "lon": [
          -44,
          -31.302733398103385,
          -18.60546679620677
         ],
         "mode": "lines",
         "text": [
          "",
          "Name: GL-IS<br>Init Capacity: 0.0<br>Opt Capacity: 0.0680814076051856",
          ""
         ],
         "type": "scattergeo"
        },
        {
         "hoverinfo": "text",
         "lat": [
          36.5,
          35.75,
          35
         ],
         "line": {
          "color": "rgba(0,0,0,0.8)",
          "width": 3
         },
         "lon": [
          3,
          -1.5,
          -6
         ],
         "mode": "lines",
         "text": [
          "",
          "Name: DZ-MA<br>Init Capacity: 0.0<br>Opt Capacity: 0.10361217351428492",
          ""
         ],
         "type": "scattergeo"
        },
        {
         "hoverinfo": "text",
         "lat": [
          36.5,
          36.5,
          36.5
         ],
         "line": {
          "color": "rgba(0,0,0,0.8)",
          "width": 3
         },
         "lon": [
          3,
          6.5,
          10
         ],
         "mode": "lines",
         "text": [
          "",
          "Name: DZ-TN<br>Init Capacity: 0.0<br>Opt Capacity: 2.0714155493117032",
          ""
         ],
         "type": "scattergeo"
        },
        {
         "hoverinfo": "text",
         "lat": [
          32,
          34.25,
          36.5
         ],
         "line": {
          "color": "rgba(0,0,0,0.8)",
          "width": 3
         },
         "lon": [
          22,
          16,
          10
         ],
         "mode": "lines",
         "text": [
          "",
          "Name: LY-TN<br>Init Capacity: 0.0<br>Opt Capacity: 0.04048334530229925",
          ""
         ],
         "type": "scattergeo"
        },
        {
         "hoverinfo": "text",
         "lat": [
          30,
          31,
          32
         ],
         "line": {
          "color": "rgba(0,0,0,0.8)",
          "width": 3
         },
         "lon": [
          31,
          26.5,
          22
         ],
         "mode": "lines",
         "text": [
          "",
          "Name: EG-LY<br>Init Capacity: 0.0<br>Opt Capacity: 0.2485625460914603",
          ""
         ],
         "type": "scattergeo"
        },
        {
         "hoverinfo": "text",
         "lat": [
          32,
          36.095,
          40.19
         ],
         "line": {
          "color": "rgba(150,150,150,0.8)",
          "width": 3
         },
         "lon": [
          22,
          21.785,
          21.57
         ],
         "mode": "lines",
         "text": [
          "",
          "Name: LY-GR<br>Init Capacity: 0.0<br>Opt Capacity: 2.061552574704061",
          ""
         ],
         "type": "scattergeo"
        },
        {
         "hoverinfo": "text",
         "lat": [
          35,
          37.69140026657806,
          40.38280053315611
         ],
         "line": {
          "color": "rgba(150,150,150,0.8)",
          "width": 3
         },
         "lon": [
          -6,
          -4.745075669874277,
          -3.4901513397485537
         ],
         "mode": "lines",
         "text": [
          "",
          "Name: MA-ES<br>Init Capacity: 0.0<br>Opt Capacity: 1.1264871563032366",
          ""
         ],
         "type": "scattergeo"
        },
        {
         "hoverinfo": "text",
         "lat": [
          36.5,
          39.644416231746135,
          42.78883246349228
         ],
         "line": {
          "color": "rgba(150,150,150,0.8)",
          "width": 3
         },
         "lon": [
          10,
          11.039757785966565,
          12.079515571933127
         ],
         "mode": "lines",
         "text": [
          "",
          "Name: TN-IT<br>Init Capacity: 0.0<br>Opt Capacity: 23.000669924156018",
          ""
         ],
         "type": "scattergeo"
        },
        {
         "hoverinfo": "text",
         "lat": [
          32.09,
          31.825000000000003,
          31.56
         ],
         "line": {
          "color": "rgba(0,0,0,0.8)",
          "width": 3
         },
         "lon": [
          34.76,
          35.155,
          35.55
         ],
         "mode": "lines",
         "text": [
          "",
          "Name: IL-JO<br>Init Capacity: 0.0<br>Opt Capacity: 0.4414288648177708",
          ""
         ],
         "type": "scattergeo"
        },
        {
         "hoverinfo": "text",
         "lat": [
          34.63,
          33.095,
          31.56
         ],
         "line": {
          "color": "rgba(0,0,0,0.8)",
          "width": 3
         },
         "lon": [
          36.64,
          36.095,
          35.55
         ],
         "mode": "lines",
         "text": [
          "",
          "Name: SY-JO<br>Init Capacity: 0.0<br>Opt Capacity: 0.10853402753706043",
          ""
         ],
         "type": "scattergeo"
        },
        {
         "hoverinfo": "text",
         "lat": [
          32.09,
          33.595,
          35.1
         ],
         "line": {
          "color": "rgba(150,150,150,0.8)",
          "width": 3
         },
         "lon": [
          34.76,
          33.985,
          33.21
         ],
         "mode": "lines",
         "text": [
          "",
          "Name: IL-CY<br>Init Capacity: 0.0<br>Opt Capacity: 0.5780179543665506",
          ""
         ],
         "type": "scattergeo"
        },
        {
         "hoverinfo": "text",
         "lat": [
          29.26121499924342,
          30.41060749962171,
          31.56
         ],
         "line": {
          "color": "rgba(0,0,0,0.8)",
          "width": 3
         },
         "lon": [
          40.88034531809624,
          38.21517265904812,
          35.55
         ],
         "mode": "lines",
         "text": [
          "",
          "Name: SA-JO<br>Init Capacity: 0.0<br>Opt Capacity: 0.06283334436009924",
          ""
         ],
         "type": "scattergeo"
        },
        {
         "hoverinfo": "text",
         "lat": [
          30,
          31.045,
          32.09
         ],
         "line": {
          "color": "rgba(0,0,0,0.8)",
          "width": 3
         },
         "lon": [
          31,
          32.879999999999995,
          34.76
         ],
         "mode": "lines",
         "text": [
          "",
          "Name: EG-IL<br>Init Capacity: 0.0<br>Opt Capacity: 0.7305726371263133",
          ""
         ],
         "type": "scattergeo"
        },
        {
         "hoverinfo": "text",
         "lat": [
          29.26121499924342,
          29.63060749962171,
          30
         ],
         "line": {
          "color": "rgba(0,0,0,0.8)",
          "width": 3
         },
         "lon": [
          40.88034531809624,
          35.940172659048116,
          31
         ],
         "mode": "lines",
         "text": [
          "",
          "Name: SA-EG<br>Init Capacity: 0.0<br>Opt Capacity: 0.2325928624270731",
          ""
         ],
         "type": "scattergeo"
        },
        {
         "hoverinfo": "text",
         "lat": [
          34.63,
          36.84535590671631,
          39.060711813432604
         ],
         "line": {
          "color": "rgba(0,0,0,0.8)",
          "width": 3
         },
         "lon": [
          36.64,
          35.90682864505082,
          35.173657290101644
         ],
         "mode": "lines",
         "text": [
          "",
          "Name: SY-TR<br>Init Capacity: 0.0<br>Opt Capacity: 0.6088312276942455",
          ""
         ],
         "type": "scattergeo"
        },
        {
         "hoverinfo": "text",
         "lat": [
          35.1,
          37.644999999999996,
          40.19
         ],
         "line": {
          "color": "rgba(150,150,150,0.8)",
          "width": 3
         },
         "lon": [
          33.21,
          27.39,
          21.57
         ],
         "mode": "lines",
         "text": [
          "",
          "Name: CY-GR<br>Init Capacity: 0.0<br>Opt Capacity: 0.5736019681600801",
          ""
         ],
         "type": "scattergeo"
        },
        {
         "hoverinfo": "text",
         "lat": [
          41.14228459115937,
          47.59290263126028,
          44.16811507125081,
          50.6428512327746,
          42.76137671517489,
          46.802495577022654,
          49.74285900276431,
          51.10996580328854,
          56.1997,
          58.67723182926178,
          40.38280053315611,
          61.06,
          46.56411437730826,
          52.7108,
          40.19,
          45.7366,
          47.16650259401978,
          53.17437686474271,
          42.78883246349228,
          55.33726831230646,
          49.77062796202031,
          56.857534554031716,
          42.79132403156703,
          41.599682669319726,
          52.25149135767342,
          60.2416,
          52.1246098980929,
          39.688626963904035,
          45.8436147469499,
          44.032045914297534,
          59.3386,
          46.12356340283028,
          48.70753085129272,
          39.060711813432604,
          64.99758844184284,
          60,
          36.5,
          30,
          35,
          32,
          36.5,
          35.1,
          32.09,
          31.56,
          29.26121499924342,
          34.63
         ],
         "lon": [
          20.068384151449468,
          14.140191772818696,
          17.78653099912207,
          4.663988676898716,
          25.231507004214954,
          8.234392216202034,
          15.33841182211087,
          10.392973099201473,
          9.0227,
          25.51809107372305,
          -3.4901513397485537,
          24.82,
          2.5486471517608758,
          -1.2816,
          21.57,
          15.89,
          19.413449085022,
          -8.151943726084482,
          12.079515571933127,
          23.894859234965374,
          6.0878136254269135,
          24.929424947073564,
          19.253240468018788,
          21.69747575097416,
          5.600829010752159,
          10.2513,
          19.400883847684888,
          -7.965252540849135,
          24.969258484682477,
          20.80545769282406,
          15.2138,
          14.826536409064815,
          19.491651063700253,
          35.173657290101644,
          -18.60546679620677,
          -44,
          3,
          31,
          -6,
          22,
          10,
          33.21,
          34.76,
          35.55,
          40.88034531809624,
          36.64
         ],
         "marker": {
          "color": "rgba(100,50,20, 0.8)",
          "size": 10
         },
         "mode": "markers",
         "name": "bus",
         "text": [
          "Bus: AL<br>",
          "Bus: AT<br>",
          "Bus: BA<br>",
          "Bus: BE<br>",
          "Bus: BG<br>",
          "Bus: CH<br>",
          "Bus: CZ<br>",
          "Bus: DE<br>",
          "Bus: DK<br>",
          "Bus: EE<br>",
          "Bus: ES<br>",
          "Bus: FI<br>",
          "Bus: FR<br>",
          "Bus: GB<br>",
          "Bus: GR<br>",
          "Bus: HR<br>",
          "Bus: HU<br>",
          "Bus: IE<br>",
          "Bus: IT<br>",
          "Bus: LT<br>",
          "Bus: LU<br>",
          "Bus: LV<br>",
          "Bus: ME<br>",
          "Bus: MK<br>",
          "Bus: NL<br>",
          "Bus: NO<br>",
          "Bus: PL<br>",
          "Bus: PT<br>",
          "Bus: RO<br>",
          "Bus: RS<br>",
          "Bus: SE<br>",
          "Bus: SI<br>",
          "Bus: SK<br>",
          "Bus: TR<br>",
          "Bus: IS<br>",
          "Bus: GL<br>",
          "Bus: DZ<br>",
          "Bus: EG<br>",
          "Bus: MA<br>",
          "Bus: LY<br>",
          "Bus: TN<br>",
          "Bus: CY<br>",
          "Bus: IL<br>",
          "Bus: JO<br>",
          "Bus: SA<br>",
          "Bus: SY<br>"
         ],
         "type": "scattergeo"
        }
       ],
       "layout": {
        "geo": {
         "fitbounds": false,
         "lataxis": {
          "dtick": 5,
          "range": [
           26,
           68
          ],
          "showgrid": true
         },
         "lonaxis": {
          "dtick": 5,
          "range": [
           -49,
           53
          ],
          "showgrid": true
         },
         "scope": "world",
         "showcountries": true
        },
        "legend": {
         "itemsizing": "trace"
        },
        "showlegend": false,
        "template": {
         "data": {
          "bar": [
           {
            "error_x": {
             "color": "#2a3f5f"
            },
            "error_y": {
             "color": "#2a3f5f"
            },
            "marker": {
             "line": {
              "color": "#E5ECF6",
              "width": 0.5
             }
            },
            "type": "bar"
           }
          ],
          "barpolar": [
           {
            "marker": {
             "line": {
              "color": "#E5ECF6",
              "width": 0.5
             }
            },
            "type": "barpolar"
           }
          ],
          "carpet": [
           {
            "aaxis": {
             "endlinecolor": "#2a3f5f",
             "gridcolor": "white",
             "linecolor": "white",
             "minorgridcolor": "white",
             "startlinecolor": "#2a3f5f"
            },
            "baxis": {
             "endlinecolor": "#2a3f5f",
             "gridcolor": "white",
             "linecolor": "white",
             "minorgridcolor": "white",
             "startlinecolor": "#2a3f5f"
            },
            "type": "carpet"
           }
          ],
          "choropleth": [
           {
            "colorbar": {
             "outlinewidth": 0,
             "ticks": ""
            },
            "type": "choropleth"
           }
          ],
          "contour": [
           {
            "colorbar": {
             "outlinewidth": 0,
             "ticks": ""
            },
            "colorscale": [
             [
              0,
              "#0d0887"
             ],
             [
              0.1111111111111111,
              "#46039f"
             ],
             [
              0.2222222222222222,
              "#7201a8"
             ],
             [
              0.3333333333333333,
              "#9c179e"
             ],
             [
              0.4444444444444444,
              "#bd3786"
             ],
             [
              0.5555555555555556,
              "#d8576b"
             ],
             [
              0.6666666666666666,
              "#ed7953"
             ],
             [
              0.7777777777777778,
              "#fb9f3a"
             ],
             [
              0.8888888888888888,
              "#fdca26"
             ],
             [
              1,
              "#f0f921"
             ]
            ],
            "type": "contour"
           }
          ],
          "contourcarpet": [
           {
            "colorbar": {
             "outlinewidth": 0,
             "ticks": ""
            },
            "type": "contourcarpet"
           }
          ],
          "heatmap": [
           {
            "colorbar": {
             "outlinewidth": 0,
             "ticks": ""
            },
            "colorscale": [
             [
              0,
              "#0d0887"
             ],
             [
              0.1111111111111111,
              "#46039f"
             ],
             [
              0.2222222222222222,
              "#7201a8"
             ],
             [
              0.3333333333333333,
              "#9c179e"
             ],
             [
              0.4444444444444444,
              "#bd3786"
             ],
             [
              0.5555555555555556,
              "#d8576b"
             ],
             [
              0.6666666666666666,
              "#ed7953"
             ],
             [
              0.7777777777777778,
              "#fb9f3a"
             ],
             [
              0.8888888888888888,
              "#fdca26"
             ],
             [
              1,
              "#f0f921"
             ]
            ],
            "type": "heatmap"
           }
          ],
          "heatmapgl": [
           {
            "colorbar": {
             "outlinewidth": 0,
             "ticks": ""
            },
            "colorscale": [
             [
              0,
              "#0d0887"
             ],
             [
              0.1111111111111111,
              "#46039f"
             ],
             [
              0.2222222222222222,
              "#7201a8"
             ],
             [
              0.3333333333333333,
              "#9c179e"
             ],
             [
              0.4444444444444444,
              "#bd3786"
             ],
             [
              0.5555555555555556,
              "#d8576b"
             ],
             [
              0.6666666666666666,
              "#ed7953"
             ],
             [
              0.7777777777777778,
              "#fb9f3a"
             ],
             [
              0.8888888888888888,
              "#fdca26"
             ],
             [
              1,
              "#f0f921"
             ]
            ],
            "type": "heatmapgl"
           }
          ],
          "histogram": [
           {
            "marker": {
             "colorbar": {
              "outlinewidth": 0,
              "ticks": ""
             }
            },
            "type": "histogram"
           }
          ],
          "histogram2d": [
           {
            "colorbar": {
             "outlinewidth": 0,
             "ticks": ""
            },
            "colorscale": [
             [
              0,
              "#0d0887"
             ],
             [
              0.1111111111111111,
              "#46039f"
             ],
             [
              0.2222222222222222,
              "#7201a8"
             ],
             [
              0.3333333333333333,
              "#9c179e"
             ],
             [
              0.4444444444444444,
              "#bd3786"
             ],
             [
              0.5555555555555556,
              "#d8576b"
             ],
             [
              0.6666666666666666,
              "#ed7953"
             ],
             [
              0.7777777777777778,
              "#fb9f3a"
             ],
             [
              0.8888888888888888,
              "#fdca26"
             ],
             [
              1,
              "#f0f921"
             ]
            ],
            "type": "histogram2d"
           }
          ],
          "histogram2dcontour": [
           {
            "colorbar": {
             "outlinewidth": 0,
             "ticks": ""
            },
            "colorscale": [
             [
              0,
              "#0d0887"
             ],
             [
              0.1111111111111111,
              "#46039f"
             ],
             [
              0.2222222222222222,
              "#7201a8"
             ],
             [
              0.3333333333333333,
              "#9c179e"
             ],
             [
              0.4444444444444444,
              "#bd3786"
             ],
             [
              0.5555555555555556,
              "#d8576b"
             ],
             [
              0.6666666666666666,
              "#ed7953"
             ],
             [
              0.7777777777777778,
              "#fb9f3a"
             ],
             [
              0.8888888888888888,
              "#fdca26"
             ],
             [
              1,
              "#f0f921"
             ]
            ],
            "type": "histogram2dcontour"
           }
          ],
          "mesh3d": [
           {
            "colorbar": {
             "outlinewidth": 0,
             "ticks": ""
            },
            "type": "mesh3d"
           }
          ],
          "parcoords": [
           {
            "line": {
             "colorbar": {
              "outlinewidth": 0,
              "ticks": ""
             }
            },
            "type": "parcoords"
           }
          ],
          "pie": [
           {
            "automargin": true,
            "type": "pie"
           }
          ],
          "scatter": [
           {
            "marker": {
             "colorbar": {
              "outlinewidth": 0,
              "ticks": ""
             }
            },
            "type": "scatter"
           }
          ],
          "scatter3d": [
           {
            "line": {
             "colorbar": {
              "outlinewidth": 0,
              "ticks": ""
             }
            },
            "marker": {
             "colorbar": {
              "outlinewidth": 0,
              "ticks": ""
             }
            },
            "type": "scatter3d"
           }
          ],
          "scattercarpet": [
           {
            "marker": {
             "colorbar": {
              "outlinewidth": 0,
              "ticks": ""
             }
            },
            "type": "scattercarpet"
           }
          ],
          "scattergeo": [
           {
            "marker": {
             "colorbar": {
              "outlinewidth": 0,
              "ticks": ""
             }
            },
            "type": "scattergeo"
           }
          ],
          "scattergl": [
           {
            "marker": {
             "colorbar": {
              "outlinewidth": 0,
              "ticks": ""
             }
            },
            "type": "scattergl"
           }
          ],
          "scattermapbox": [
           {
            "marker": {
             "colorbar": {
              "outlinewidth": 0,
              "ticks": ""
             }
            },
            "type": "scattermapbox"
           }
          ],
          "scatterpolar": [
           {
            "marker": {
             "colorbar": {
              "outlinewidth": 0,
              "ticks": ""
             }
            },
            "type": "scatterpolar"
           }
          ],
          "scatterpolargl": [
           {
            "marker": {
             "colorbar": {
              "outlinewidth": 0,
              "ticks": ""
             }
            },
            "type": "scatterpolargl"
           }
          ],
          "scatterternary": [
           {
            "marker": {
             "colorbar": {
              "outlinewidth": 0,
              "ticks": ""
             }
            },
            "type": "scatterternary"
           }
          ],
          "surface": [
           {
            "colorbar": {
             "outlinewidth": 0,
             "ticks": ""
            },
            "colorscale": [
             [
              0,
              "#0d0887"
             ],
             [
              0.1111111111111111,
              "#46039f"
             ],
             [
              0.2222222222222222,
              "#7201a8"
             ],
             [
              0.3333333333333333,
              "#9c179e"
             ],
             [
              0.4444444444444444,
              "#bd3786"
             ],
             [
              0.5555555555555556,
              "#d8576b"
             ],
             [
              0.6666666666666666,
              "#ed7953"
             ],
             [
              0.7777777777777778,
              "#fb9f3a"
             ],
             [
              0.8888888888888888,
              "#fdca26"
             ],
             [
              1,
              "#f0f921"
             ]
            ],
            "type": "surface"
           }
          ],
          "table": [
           {
            "cells": {
             "fill": {
              "color": "#EBF0F8"
             },
             "line": {
              "color": "white"
             }
            },
            "header": {
             "fill": {
              "color": "#C8D4E3"
             },
             "line": {
              "color": "white"
             }
            },
            "type": "table"
           }
          ]
         },
         "layout": {
          "annotationdefaults": {
           "arrowcolor": "#2a3f5f",
           "arrowhead": 0,
           "arrowwidth": 1
          },
          "coloraxis": {
           "colorbar": {
            "outlinewidth": 0,
            "ticks": ""
           }
          },
          "colorscale": {
           "diverging": [
            [
             0,
             "#8e0152"
            ],
            [
             0.1,
             "#c51b7d"
            ],
            [
             0.2,
             "#de77ae"
            ],
            [
             0.3,
             "#f1b6da"
            ],
            [
             0.4,
             "#fde0ef"
            ],
            [
             0.5,
             "#f7f7f7"
            ],
            [
             0.6,
             "#e6f5d0"
            ],
            [
             0.7,
             "#b8e186"
            ],
            [
             0.8,
             "#7fbc41"
            ],
            [
             0.9,
             "#4d9221"
            ],
            [
             1,
             "#276419"
            ]
           ],
           "sequential": [
            [
             0,
             "#0d0887"
            ],
            [
             0.1111111111111111,
             "#46039f"
            ],
            [
             0.2222222222222222,
             "#7201a8"
            ],
            [
             0.3333333333333333,
             "#9c179e"
            ],
            [
             0.4444444444444444,
             "#bd3786"
            ],
            [
             0.5555555555555556,
             "#d8576b"
            ],
            [
             0.6666666666666666,
             "#ed7953"
            ],
            [
             0.7777777777777778,
             "#fb9f3a"
            ],
            [
             0.8888888888888888,
             "#fdca26"
            ],
            [
             1,
             "#f0f921"
            ]
           ],
           "sequentialminus": [
            [
             0,
             "#0d0887"
            ],
            [
             0.1111111111111111,
             "#46039f"
            ],
            [
             0.2222222222222222,
             "#7201a8"
            ],
            [
             0.3333333333333333,
             "#9c179e"
            ],
            [
             0.4444444444444444,
             "#bd3786"
            ],
            [
             0.5555555555555556,
             "#d8576b"
            ],
            [
             0.6666666666666666,
             "#ed7953"
            ],
            [
             0.7777777777777778,
             "#fb9f3a"
            ],
            [
             0.8888888888888888,
             "#fdca26"
            ],
            [
             1,
             "#f0f921"
            ]
           ]
          },
          "colorway": [
           "#636efa",
           "#EF553B",
           "#00cc96",
           "#ab63fa",
           "#FFA15A",
           "#19d3f3",
           "#FF6692",
           "#B6E880",
           "#FF97FF",
           "#FECB52"
          ],
          "font": {
           "color": "#2a3f5f"
          },
          "geo": {
           "bgcolor": "white",
           "lakecolor": "white",
           "landcolor": "#E5ECF6",
           "showlakes": true,
           "showland": true,
           "subunitcolor": "white"
          },
          "hoverlabel": {
           "align": "left"
          },
          "hovermode": "closest",
          "mapbox": {
           "style": "light"
          },
          "paper_bgcolor": "white",
          "plot_bgcolor": "#E5ECF6",
          "polar": {
           "angularaxis": {
            "gridcolor": "white",
            "linecolor": "white",
            "ticks": ""
           },
           "bgcolor": "#E5ECF6",
           "radialaxis": {
            "gridcolor": "white",
            "linecolor": "white",
            "ticks": ""
           }
          },
          "scene": {
           "xaxis": {
            "backgroundcolor": "#E5ECF6",
            "gridcolor": "white",
            "gridwidth": 2,
            "linecolor": "white",
            "showbackground": true,
            "ticks": "",
            "zerolinecolor": "white"
           },
           "yaxis": {
            "backgroundcolor": "#E5ECF6",
            "gridcolor": "white",
            "gridwidth": 2,
            "linecolor": "white",
            "showbackground": true,
            "ticks": "",
            "zerolinecolor": "white"
           },
           "zaxis": {
            "backgroundcolor": "#E5ECF6",
            "gridcolor": "white",
            "gridwidth": 2,
            "linecolor": "white",
            "showbackground": true,
            "ticks": "",
            "zerolinecolor": "white"
           }
          },
          "shapedefaults": {
           "line": {
            "color": "#2a3f5f"
           }
          },
          "ternary": {
           "aaxis": {
            "gridcolor": "white",
            "linecolor": "white",
            "ticks": ""
           },
           "baxis": {
            "gridcolor": "white",
            "linecolor": "white",
            "ticks": ""
           },
           "bgcolor": "#E5ECF6",
           "caxis": {
            "gridcolor": "white",
            "linecolor": "white",
            "ticks": ""
           }
          },
          "title": {
           "x": 0.05
          },
          "xaxis": {
           "automargin": true,
           "gridcolor": "white",
           "linecolor": "white",
           "ticks": "",
           "title": {
            "standoff": 15
           },
           "zerolinecolor": "white",
           "zerolinewidth": 2
          },
          "yaxis": {
           "automargin": true,
           "gridcolor": "white",
           "linecolor": "white",
           "ticks": "",
           "title": {
            "standoff": 15
           },
           "zerolinecolor": "white",
           "zerolinewidth": 2
          }
         }
        }
       }
      },
      "text/html": [
       "<div>                            <div id=\"f802cc0f-e4d3-41a2-a70a-0740a6deacbb\" class=\"plotly-graph-div\" style=\"height:525px; width:100%;\"></div>            <script type=\"text/javascript\">                require([\"plotly\"], function(Plotly) {                    window.PLOTLYENV=window.PLOTLYENV || {};                                    if (document.getElementById(\"f802cc0f-e4d3-41a2-a70a-0740a6deacbb\")) {                    Plotly.newPlot(                        \"f802cc0f-e4d3-41a2-a70a-0740a6deacbb\",                        [{\"hoverinfo\": \"text\", \"lat\": [41.14228459115937, 40.66614229557968, 40.19], \"line\": {\"color\": \"rgba(0,0,0,0.8)\", \"width\": 3}, \"lon\": [20.068384151449468, 20.819192075724736, 21.57], \"mode\": \"lines\", \"text\": [\"\", \"Name: AL-GR<br>Init Capacity: 0.25<br>Opt Capacity: 2.8513330515400304\", \"\"], \"type\": \"scattergeo\"}, {\"hoverinfo\": \"text\", \"lat\": [41.14228459115937, 41.9668043113632, 42.79132403156703], \"line\": {\"color\": \"rgba(0,0,0,0.8)\", \"width\": 3}, \"lon\": [20.068384151449468, 19.660812309734126, 19.253240468018788], \"mode\": \"lines\", \"text\": [\"\", \"Name: AL-ME<br>Init Capacity: 0.4<br>Opt Capacity: 3.329028428549623\", \"\"], \"type\": \"scattergeo\"}, {\"hoverinfo\": \"text\", \"lat\": [41.14228459115937, 41.37098363023955, 41.599682669319726], \"line\": {\"color\": \"rgba(0,0,0,0.8)\", \"width\": 3}, \"lon\": [20.068384151449468, 20.882929951211814, 21.69747575097416], \"mode\": \"lines\", \"text\": [\"\", \"Name: AL-MK<br>Init Capacity: 0.5<br>Opt Capacity: 0.9339371210693524\", \"\"], \"type\": \"scattergeo\"}, {\"hoverinfo\": \"text\", \"lat\": [41.14228459115937, 42.587165252728454, 44.032045914297534], \"line\": {\"color\": \"rgba(0,0,0,0.8)\", \"width\": 3}, \"lon\": [20.068384151449468, 20.436920922136764, 20.80545769282406], \"mode\": \"lines\", \"text\": [\"\", \"Name: AL-RS<br>Init Capacity: 0.5<br>Opt Capacity: 0.8371951154225722\", \"\"], \"type\": \"scattergeo\"}, {\"hoverinfo\": \"text\", \"lat\": [47.59290263126028, 47.19769910414146, 46.802495577022654], \"line\": {\"color\": \"rgba(0,0,0,0.8)\", \"width\": 3}, \"lon\": [14.140191772818696, 11.187291994510364, 8.234392216202034], \"mode\": \"lines\", \"text\": [\"\", \"Name: AT-CH<br>Init Capacity: 1.7<br>Opt Capacity: 1.7023410551351892\", \"\"], \"type\": \"scattergeo\"}, {\"hoverinfo\": \"text\", \"lat\": [47.59290263126028, 48.667880817012296, 49.74285900276431], \"line\": {\"color\": \"rgba(0,0,0,0.8)\", \"width\": 3}, \"lon\": [14.140191772818696, 14.739301797464783, 15.33841182211087], \"mode\": \"lines\", \"text\": [\"\", \"Name: AT-CZ<br>Init Capacity: 1.2<br>Opt Capacity: 1.2421088714212252\", \"\"], \"type\": \"scattergeo\"}, {\"hoverinfo\": \"text\", \"lat\": [47.59290263126028, 49.35143421727441, 51.10996580328854], \"line\": {\"color\": \"rgba(0,0,0,0.8)\", \"width\": 3}, \"lon\": [14.140191772818696, 12.266582436010085, 10.392973099201473], \"mode\": \"lines\", \"text\": [\"\", \"Name: AT-DE<br>Init Capacity: 7.5<br>Opt Capacity: 16.581845939295615\", \"\"], \"type\": \"scattergeo\"}, {\"hoverinfo\": \"text\", \"lat\": [47.59290263126028, 47.37970261264003, 47.16650259401978], \"line\": {\"color\": \"rgba(0,0,0,0.8)\", \"width\": 3}, \"lon\": [14.140191772818696, 16.776820428920345, 19.413449085022], \"mode\": \"lines\", \"text\": [\"\", \"Name: AT-HU<br>Init Capacity: 1.2<br>Opt Capacity: 3.2574048490612624\", \"\"], \"type\": \"scattergeo\"}, {\"hoverinfo\": \"text\", \"lat\": [47.59290263126028, 45.19086754737628, 42.78883246349228], \"line\": {\"color\": \"rgba(0,0,0,0.8)\", \"width\": 3}, \"lon\": [14.140191772818696, 13.109853672375912, 12.079515571933127], \"mode\": \"lines\", \"text\": [\"\", \"Name: AT-IT<br>Init Capacity: 1.05<br>Opt Capacity: 1.4760132410521605\", \"\"], \"type\": \"scattergeo\"}, {\"hoverinfo\": \"text\", \"lat\": [47.59290263126028, 46.85823301704528, 46.12356340283028], \"line\": {\"color\": \"rgba(0,0,0,0.8)\", \"width\": 3}, \"lon\": [14.140191772818696, 14.483364090941755, 14.826536409064815], \"mode\": \"lines\", \"text\": [\"\", \"Name: AT-SI<br>Init Capacity: 1.2<br>Opt Capacity: 14.148445840930783\", \"\"], \"type\": \"scattergeo\"}, {\"hoverinfo\": \"text\", \"lat\": [44.16811507125081, 44.95235753562541, 45.7366], \"line\": {\"color\": \"rgba(0,0,0,0.8)\", \"width\": 3}, \"lon\": [17.78653099912207, 16.838265499561036, 15.89], \"mode\": \"lines\", \"text\": [\"\", \"Name: BA-HR<br>Init Capacity: 1.25<br>Opt Capacity: 4.338570315046417\", \"\"], \"type\": \"scattergeo\"}, {\"hoverinfo\": \"text\", \"lat\": [44.16811507125081, 43.47971955140892, 42.79132403156703], \"line\": {\"color\": \"rgba(0,0,0,0.8)\", \"width\": 3}, \"lon\": [17.78653099912207, 18.51988573357043, 19.253240468018788], \"mode\": \"lines\", \"text\": [\"\", \"Name: BA-ME<br>Init Capacity: 0.8<br>Opt Capacity: 2.7374250681319934\", \"\"], \"type\": \"scattergeo\"}, {\"hoverinfo\": \"text\", \"lat\": [44.16811507125081, 44.10008049277417, 44.032045914297534], \"line\": {\"color\": \"rgba(0,0,0,0.8)\", \"width\": 3}, \"lon\": [17.78653099912207, 19.295994345973064, 20.80545769282406], \"mode\": \"lines\", \"text\": [\"\", \"Name: BA-RS<br>Init Capacity: 1.2<br>Opt Capacity: 1.2846229854633564\", \"\"], \"type\": \"scattergeo\"}, {\"hoverinfo\": \"text\", \"lat\": [50.6428512327746, 50.87640851803157, 51.10996580328854], \"line\": {\"color\": \"rgba(0,0,0,0.8)\", \"width\": 3}, \"lon\": [4.663988676898716, 7.528480888050095, 10.392973099201473], \"mode\": \"lines\", \"text\": [\"\", \"Name: BE-DE<br>Init Capacity: 1.0<br>Opt Capacity: 1.007049017216197\", \"\"], \"type\": \"scattergeo\"}, {\"hoverinfo\": \"text\", \"lat\": [50.6428512327746, 48.60348280504143, 46.56411437730826], \"line\": {\"color\": \"rgba(0,0,0,0.8)\", \"width\": 3}, \"lon\": [4.663988676898716, 3.606317914329796, 2.5486471517608758], \"mode\": \"lines\", \"text\": [\"\", \"Name: BE-FR<br>Init Capacity: 4.3<br>Opt Capacity: 4.300015444432725\", \"\"], \"type\": \"scattergeo\"}, {\"hoverinfo\": \"text\", \"lat\": [50.6428512327746, 51.676825616387305, 52.7108], \"line\": {\"color\": \"rgba(150,150,150,0.8)\", \"width\": 3}, \"lon\": [4.663988676898716, 1.6911943384493582, -1.2816], \"mode\": \"lines\", \"text\": [\"\", \"Name: BE-GB<br>Init Capacity: 1.0<br>Opt Capacity: 14.12612786646039\", \"\"], \"type\": \"scattergeo\"}, {\"hoverinfo\": \"text\", \"lat\": [50.6428512327746, 50.20673959739746, 49.77062796202031], \"line\": {\"color\": \"rgba(0,0,0,0.8)\", \"width\": 3}, \"lon\": [4.663988676898716, 5.3759011511628145, 6.0878136254269135], \"mode\": \"lines\", \"text\": [\"\", \"Name: BE-LU<br>Init Capacity: 0.68<br>Opt Capacity: 2.030378182854427\", \"\"], \"type\": \"scattergeo\"}, {\"hoverinfo\": \"text\", \"lat\": [50.6428512327746, 51.44717129522401, 52.25149135767342], \"line\": {\"color\": \"rgba(0,0,0,0.8)\", \"width\": 3}, \"lon\": [4.663988676898716, 5.132408843825438, 5.600829010752159], \"mode\": \"lines\", \"text\": [\"\", \"Name: BE-NL<br>Init Capacity: 3.4<br>Opt Capacity: 3.402952550611364\", \"\"], \"type\": \"scattergeo\"}, {\"hoverinfo\": \"text\", \"lat\": [42.76137671517489, 41.475688357587444, 40.19], \"line\": {\"color\": \"rgba(0,0,0,0.8)\", \"width\": 3}, \"lon\": [25.231507004214954, 23.400753502107477, 21.57], \"mode\": \"lines\", \"text\": [\"\", \"Name: BG-GR<br>Init Capacity: 1.35<br>Opt Capacity: 1.3519791651382844\", \"\"], \"type\": \"scattergeo\"}, {\"hoverinfo\": \"text\", \"lat\": [42.76137671517489, 42.180529692247305, 41.599682669319726], \"line\": {\"color\": \"rgba(0,0,0,0.8)\", \"width\": 3}, \"lon\": [25.231507004214954, 23.464491377594555, 21.69747575097416], \"mode\": \"lines\", \"text\": [\"\", \"Name: BG-MK<br>Init Capacity: 0.5<br>Opt Capacity: 0.6199675742708828\", \"\"], \"type\": \"scattergeo\"}, {\"hoverinfo\": \"text\", \"lat\": [42.76137671517489, 44.30249573106239, 45.8436147469499], \"line\": {\"color\": \"rgba(0,0,0,0.8)\", \"width\": 3}, \"lon\": [25.231507004214954, 25.100382744448716, 24.969258484682477], \"mode\": \"lines\", \"text\": [\"\", \"Name: BG-RO<br>Init Capacity: 1.5<br>Opt Capacity: 12.80068554940145\", \"\"], \"type\": \"scattergeo\"}, {\"hoverinfo\": \"text\", \"lat\": [42.76137671517489, 43.39671131473621, 44.032045914297534], \"line\": {\"color\": \"rgba(0,0,0,0.8)\", \"width\": 3}, \"lon\": [25.231507004214954, 23.018482348519505, 20.80545769282406], \"mode\": \"lines\", \"text\": [\"\", \"Name: BG-RS<br>Init Capacity: 0.35<br>Opt Capacity: 7.41805854503905\", \"\"], \"type\": \"scattergeo\"}, {\"hoverinfo\": \"text\", \"lat\": [42.76137671517489, 40.91104426430375, 39.060711813432604], \"line\": {\"color\": \"rgba(0,0,0,0.8)\", \"width\": 3}, \"lon\": [25.231507004214954, 30.2025821471583, 35.173657290101644], \"mode\": \"lines\", \"text\": [\"\", \"Name: BG-TR<br>Init Capacity: 1.2<br>Opt Capacity: 20.79143474855705\", \"\"], \"type\": \"scattergeo\"}, {\"hoverinfo\": \"text\", \"lat\": [46.802495577022654, 48.95623069015559, 51.10996580328854], \"line\": {\"color\": \"rgba(0,0,0,0.8)\", \"width\": 3}, \"lon\": [8.234392216202034, 9.313682657701754, 10.392973099201473], \"mode\": \"lines\", \"text\": [\"\", \"Name: CH-DE<br>Init Capacity: 5.6<br>Opt Capacity: 5.608190146928201\", \"\"], \"type\": \"scattergeo\"}, {\"hoverinfo\": \"text\", \"lat\": [46.802495577022654, 46.683304977165456, 46.56411437730826], \"line\": {\"color\": \"rgba(0,0,0,0.8)\", \"width\": 3}, \"lon\": [8.234392216202034, 5.391519683981455, 2.5486471517608758], \"mode\": \"lines\", \"text\": [\"\", \"Name: CH-FR<br>Init Capacity: 3.7<br>Opt Capacity: 8.79550028699822\", \"\"], \"type\": \"scattergeo\"}, {\"hoverinfo\": \"text\", \"lat\": [46.802495577022654, 44.79566402025746, 42.78883246349228], \"line\": {\"color\": \"rgba(0,0,0,0.8)\", \"width\": 3}, \"lon\": [8.234392216202034, 10.15695389406758, 12.079515571933127], \"mode\": \"lines\", \"text\": [\"\", \"Name: CH-IT<br>Init Capacity: 6.0<br>Opt Capacity: 7.101470783530893\", \"\"], \"type\": \"scattergeo\"}, {\"hoverinfo\": \"text\", \"lat\": [49.74285900276431, 50.426412403026426, 51.10996580328854], \"line\": {\"color\": \"rgba(0,0,0,0.8)\", \"width\": 3}, \"lon\": [15.33841182211087, 12.865692460656172, 10.392973099201473], \"mode\": \"lines\", \"text\": [\"\", \"Name: CZ-DE<br>Init Capacity: 2.6<br>Opt Capacity: 5.515963668460434\", \"\"], \"type\": \"scattergeo\"}, {\"hoverinfo\": \"text\", \"lat\": [49.74285900276431, 50.9337344504286, 52.1246098980929], \"line\": {\"color\": \"rgba(0,0,0,0.8)\", \"width\": 3}, \"lon\": [15.33841182211087, 17.36964783489788, 19.400883847684888], \"mode\": \"lines\", \"text\": [\"\", \"Name: CZ-PL<br>Init Capacity: 1.2<br>Opt Capacity: 1.202223346002594\", \"\"], \"type\": \"scattergeo\"}, {\"hoverinfo\": \"text\", \"lat\": [49.74285900276431, 49.22519492702851, 48.70753085129272], \"line\": {\"color\": \"rgba(0,0,0,0.8)\", \"width\": 3}, \"lon\": [15.33841182211087, 17.415031442905562, 19.491651063700253], \"mode\": \"lines\", \"text\": [\"\", \"Name: CZ-SK<br>Init Capacity: 1.8<br>Opt Capacity: 2.276475979269406\", \"\"], \"type\": \"scattergeo\"}, {\"hoverinfo\": \"text\", \"lat\": [51.10996580328854, 53.65483290164427, 56.1997], \"line\": {\"color\": \"rgba(0,0,0,0.8)\", \"width\": 3}, \"lon\": [10.392973099201473, 9.707836549600737, 9.0227], \"mode\": \"lines\", \"text\": [\"\", \"Name: DE-DK<br>Init Capacity: 4.0<br>Opt Capacity: 4.000029366817299\", \"\"], \"type\": \"scattergeo\"}, {\"hoverinfo\": \"text\", \"lat\": [51.10996580328854, 48.8370400902984, 46.56411437730826], \"line\": {\"color\": \"rgba(0,0,0,0.8)\", \"width\": 3}, \"lon\": [10.392973099201473, 6.470810125481174, 2.5486471517608758], \"mode\": \"lines\", \"text\": [\"\", \"Name: DE-FR<br>Init Capacity: 4.5<br>Opt Capacity: 4.501061739879943\", \"\"], \"type\": \"scattergeo\"}, {\"hoverinfo\": \"text\", \"lat\": [51.10996580328854, 51.91038290164427, 52.7108], \"line\": {\"color\": \"rgba(150,150,150,0.8)\", \"width\": 3}, \"lon\": [10.392973099201473, 4.555686549600736, -1.2816], \"mode\": \"lines\", \"text\": [\"\", \"Name: DE-GB<br>Init Capacity: 1.4<br>Opt Capacity: 58.486438986319506\", \"\"], \"type\": \"scattergeo\"}, {\"hoverinfo\": \"text\", \"lat\": [51.10996580328854, 50.44029688265442, 49.77062796202031], \"line\": {\"color\": \"rgba(0,0,0,0.8)\", \"width\": 3}, \"lon\": [10.392973099201473, 8.240393362314194, 6.0878136254269135], \"mode\": \"lines\", \"text\": [\"\", \"Name: DE-LU<br>Init Capacity: 2.3<br>Opt Capacity: 2.304457124814257\", \"\"], \"type\": \"scattergeo\"}, {\"hoverinfo\": \"text\", \"lat\": [51.10996580328854, 51.68072858048098, 52.25149135767342], \"line\": {\"color\": \"rgba(0,0,0,0.8)\", \"width\": 3}, \"lon\": [10.392973099201473, 7.996901054976816, 5.600829010752159], \"mode\": \"lines\", \"text\": [\"\", \"Name: DE-NL<br>Init Capacity: 5.0<br>Opt Capacity: 5.0001781999912565\", \"\"], \"type\": \"scattergeo\"}, {\"hoverinfo\": \"text\", \"lat\": [51.10996580328854, 55.67578290164427, 60.2416], \"line\": {\"color\": \"rgba(150,150,150,0.8)\", \"width\": 3}, \"lon\": [10.392973099201473, 10.322136549600737, 10.2513], \"mode\": \"lines\", \"text\": [\"\", \"Name: DE-NO<br>Init Capacity: 1.4<br>Opt Capacity: 1.401418016546574\", \"\"], \"type\": \"scattergeo\"}, {\"hoverinfo\": \"text\", \"lat\": [51.10996580328854, 51.617287850690715, 52.1246098980929], \"line\": {\"color\": \"rgba(0,0,0,0.8)\", \"width\": 3}, \"lon\": [10.392973099201473, 14.89692847344318, 19.400883847684888], \"mode\": \"lines\", \"text\": [\"\", \"Name: DE-PL<br>Init Capacity: 5.0<br>Opt Capacity: 8.793387836146874\", \"\"], \"type\": \"scattergeo\"}, {\"hoverinfo\": \"text\", \"lat\": [51.10996580328854, 55.22428290164427, 59.3386], \"line\": {\"color\": \"rgba(150,150,150,0.8)\", \"width\": 3}, \"lon\": [10.392973099201473, 12.803386549600738, 15.2138], \"mode\": \"lines\", \"text\": [\"\", \"Name: DE-SE<br>Init Capacity: 1.315<br>Opt Capacity: 1.316885862707862\", \"\"], \"type\": \"scattergeo\"}, {\"hoverinfo\": \"text\", \"lat\": [56.1997, 54.45525, 52.7108], \"line\": {\"color\": \"rgba(150,150,150,0.8)\", \"width\": 3}, \"lon\": [9.0227, 3.87055, -1.2816], \"mode\": \"lines\", \"text\": [\"\", \"Name: DK-GB<br>Init Capacity: 1.4<br>Opt Capacity: 3.4101759396344264\", \"\"], \"type\": \"scattergeo\"}, {\"hoverinfo\": \"text\", \"lat\": [56.1997, 54.22559567883671, 52.25149135767342], \"line\": {\"color\": \"rgba(150,150,150,0.8)\", \"width\": 3}, \"lon\": [9.0227, 7.31176450537608, 5.600829010752159], \"mode\": \"lines\", \"text\": [\"\", \"Name: DK-NL<br>Init Capacity: 0.7<br>Opt Capacity: 1.044334260919353\", \"\"], \"type\": \"scattergeo\"}, {\"hoverinfo\": \"text\", \"lat\": [56.1997, 58.22065, 60.2416], \"line\": {\"color\": \"rgba(150,150,150,0.8)\", \"width\": 3}, \"lon\": [9.0227, 9.637, 10.2513], \"mode\": \"lines\", \"text\": [\"\", \"Name: DK-NO<br>Init Capacity: 1.7<br>Opt Capacity: 5.591007923810328\", \"\"], \"type\": \"scattergeo\"}, {\"hoverinfo\": \"text\", \"lat\": [56.1997, 54.16215494904645, 52.1246098980929], \"line\": {\"color\": \"rgba(150,150,150,0.8)\", \"width\": 3}, \"lon\": [9.0227, 14.211791923842444, 19.400883847684888], \"mode\": \"lines\", \"text\": [\"\", \"Name: DK-PL<br>Init Capacity: 0.0<br>Opt Capacity: 1.7854620686935063\", \"\"], \"type\": \"scattergeo\"}, {\"hoverinfo\": \"text\", \"lat\": [56.1997, 57.769149999999996, 59.3386], \"line\": {\"color\": \"rgba(150,150,150,0.8)\", \"width\": 3}, \"lon\": [9.0227, 12.11825, 15.2138], \"mode\": \"lines\", \"text\": [\"\", \"Name: DK-SE<br>Init Capacity: 2.44<br>Opt Capacity: 2.4418863009337946\", \"\"], \"type\": \"scattergeo\"}, {\"hoverinfo\": \"text\", \"lat\": [58.67723182926178, 59.868615914630894, 61.06], \"line\": {\"color\": \"rgba(150,150,150,0.8)\", \"width\": 3}, \"lon\": [25.51809107372305, 25.169045536861525, 24.82], \"mode\": \"lines\", \"text\": [\"\", \"Name: EE-FI<br>Init Capacity: 1.016<br>Opt Capacity: 7.137982756609569\", \"\"], \"type\": \"scattergeo\"}, {\"hoverinfo\": \"text\", \"lat\": [58.67723182926178, 57.76738319164674, 56.857534554031716], \"line\": {\"color\": \"rgba(0,0,0,0.8)\", \"width\": 3}, \"lon\": [25.51809107372305, 25.223758010398306, 24.929424947073564], \"mode\": \"lines\", \"text\": [\"\", \"Name: EE-LV<br>Init Capacity: 1.379<br>Opt Capacity: 5.724448487642062\", \"\"], \"type\": \"scattergeo\"}, {\"hoverinfo\": \"text\", \"lat\": [40.38280053315611, 43.47345745523218, 46.56411437730826], \"line\": {\"color\": \"rgba(150,150,150,0.8)\", \"width\": 3}, \"lon\": [-3.4901513397485537, -0.470752093993839, 2.5486471517608758], \"mode\": \"lines\", \"text\": [\"\", \"Name: ES-FR<br>Init Capacity: 5.0<br>Opt Capacity: 15.439178606258274\", \"\"], \"type\": \"scattergeo\"}, {\"hoverinfo\": \"text\", \"lat\": [40.38280053315611, 40.03571374853007, 39.688626963904035], \"line\": {\"color\": \"rgba(0,0,0,0.8)\", \"width\": 3}, \"lon\": [-3.4901513397485537, -5.727701940298845, -7.965252540849135], \"mode\": \"lines\", \"text\": [\"\", \"Name: ES-PT<br>Init Capacity: 4.2<br>Opt Capacity: 4.208579565819671\", \"\"], \"type\": \"scattergeo\"}, {\"hoverinfo\": \"text\", \"lat\": [61.06, 60.650800000000004, 60.2416], \"line\": {\"color\": \"rgba(0,0,0,0.8)\", \"width\": 3}, \"lon\": [24.82, 17.53565, 10.2513], \"mode\": \"lines\", \"text\": [\"\", \"Name: FI-NO<br>Init Capacity: 0.0<br>Opt Capacity: 0.6721389037451229\", \"\"], \"type\": \"scattergeo\"}, {\"hoverinfo\": \"text\", \"lat\": [61.06, 60.1993, 59.3386], \"line\": {\"color\": \"rgba(0,0,0,0.8)\", \"width\": 3}, \"lon\": [24.82, 20.0169, 15.2138], \"mode\": \"lines\", \"text\": [\"\", \"Name: FI-SE<br>Init Capacity: 3.2<br>Opt Capacity: 3.2002579414268744\", \"\"], \"type\": \"scattergeo\"}, {\"hoverinfo\": \"text\", \"lat\": [46.56411437730826, 49.637457188654125, 52.7108], \"line\": {\"color\": \"rgba(150,150,150,0.8)\", \"width\": 3}, \"lon\": [2.5486471517608758, 0.6335235758804378, -1.2816], \"mode\": \"lines\", \"text\": [\"\", \"Name: FR-GB<br>Init Capacity: 6.9<br>Opt Capacity: 13.894740430454528\", \"\"], \"type\": \"scattergeo\"}, {\"hoverinfo\": \"text\", \"lat\": [46.56411437730826, 49.869245621025485, 53.17437686474271], \"line\": {\"color\": \"rgba(150,150,150,0.8)\", \"width\": 3}, \"lon\": [2.5486471517608758, -2.8016482871618034, -8.151943726084482], \"mode\": \"lines\", \"text\": [\"\", \"Name: FR-IE<br>Init Capacity: 0.0<br>Opt Capacity: 14.509295746375749\", \"\"], \"type\": \"scattergeo\"}, {\"hoverinfo\": \"text\", \"lat\": [46.56411437730826, 44.67647342040027, 42.78883246349228], \"line\": {\"color\": \"rgba(0,0,0,0.8)\", \"width\": 3}, \"lon\": [2.5486471517608758, 7.314081361847002, 12.079515571933127], \"mode\": \"lines\", \"text\": [\"\", \"Name: FR-IT<br>Init Capacity: 4.55<br>Opt Capacity: 8.164717961582559\", \"\"], \"type\": \"scattergeo\"}, {\"hoverinfo\": \"text\", \"lat\": [46.56411437730826, 48.167371169664285, 49.77062796202031], \"line\": {\"color\": \"rgba(0,0,0,0.8)\", \"width\": 3}, \"lon\": [2.5486471517608758, 4.318230388593895, 6.0878136254269135], \"mode\": \"lines\", \"text\": [\"\", \"Name: FR-LU<br>Init Capacity: 0.38<br>Opt Capacity: 0.38188706910397135\", \"\"], \"type\": \"scattergeo\"}, {\"hoverinfo\": \"text\", \"lat\": [52.7108, 52.94258843237135, 53.17437686474271], \"line\": {\"color\": \"rgba(150,150,150,0.8)\", \"width\": 3}, \"lon\": [-1.2816, -4.716771863042242, -8.151943726084482], \"mode\": \"lines\", \"text\": [\"\", \"Name: GB-IE<br>Init Capacity: 0.5<br>Opt Capacity: 17.8804926617866\", \"\"], \"type\": \"scattergeo\"}, {\"hoverinfo\": \"text\", \"lat\": [52.7108, 52.48114567883671, 52.25149135767342], \"line\": {\"color\": \"rgba(150,150,150,0.8)\", \"width\": 3}, \"lon\": [-1.2816, 2.1596145053760796, 5.600829010752159], \"mode\": \"lines\", \"text\": [\"\", \"Name: GB-NL<br>Init Capacity: 1.0<br>Opt Capacity: 5.382265113053718\", \"\"], \"type\": \"scattergeo\"}, {\"hoverinfo\": \"text\", \"lat\": [52.7108, 56.4762, 60.2416], \"line\": {\"color\": \"rgba(150,150,150,0.8)\", \"width\": 3}, \"lon\": [-1.2816, 4.48485, 10.2513], \"mode\": \"lines\", \"text\": [\"\", \"Name: GB-NO<br>Init Capacity: 2.8<br>Opt Capacity: 10.22366649985256\", \"\"], \"type\": \"scattergeo\"}, {\"hoverinfo\": \"text\", \"lat\": [40.19, 41.489416231746134, 42.78883246349228], \"line\": {\"color\": \"rgba(150,150,150,0.8)\", \"width\": 3}, \"lon\": [21.57, 16.824757785966565, 12.079515571933127], \"mode\": \"lines\", \"text\": [\"\", \"Name: GR-IT<br>Init Capacity: 0.5<br>Opt Capacity: 1.5487100895020045\", \"\"], \"type\": \"scattergeo\"}, {\"hoverinfo\": \"text\", \"lat\": [40.19, 40.89484133465986, 41.599682669319726], \"line\": {\"color\": \"rgba(0,0,0,0.8)\", \"width\": 3}, \"lon\": [21.57, 21.63373787548708, 21.69747575097416], \"mode\": \"lines\", \"text\": [\"\", \"Name: GR-MK<br>Init Capacity: 1.2<br>Opt Capacity: 1.721514050396252\", \"\"], \"type\": \"scattergeo\"}, {\"hoverinfo\": \"text\", \"lat\": [40.19, 39.6253559067163, 39.060711813432604], \"line\": {\"color\": \"rgba(150,150,150,0.8)\", \"width\": 3}, \"lon\": [21.57, 28.371828645050822, 35.173657290101644], \"mode\": \"lines\", \"text\": [\"\", \"Name: GR-TR<br>Init Capacity: 0.66<br>Opt Capacity: 1.7916007966213139\", \"\"], \"type\": \"scattergeo\"}, {\"hoverinfo\": \"text\", \"lat\": [45.7366, 46.45155129700989, 47.16650259401978], \"line\": {\"color\": \"rgba(0,0,0,0.8)\", \"width\": 3}, \"lon\": [15.89, 17.651724542510998, 19.413449085022], \"mode\": \"lines\", \"text\": [\"\", \"Name: HR-HU<br>Init Capacity: 2.0<br>Opt Capacity: 2.0035916978289525\", \"\"], \"type\": \"scattergeo\"}, {\"hoverinfo\": \"text\", \"lat\": [45.7366, 44.88432295714877, 44.032045914297534], \"line\": {\"color\": \"rgba(0,0,0,0.8)\", \"width\": 3}, \"lon\": [15.89, 18.347728846412032, 20.80545769282406], \"mode\": \"lines\", \"text\": [\"\", \"Name: HR-RS<br>Init Capacity: 0.6<br>Opt Capacity: 5.896560597993612\", \"\"], \"type\": \"scattergeo\"}, {\"hoverinfo\": \"text\", \"lat\": [45.7366, 45.93008170141514, 46.12356340283028], \"line\": {\"color\": \"rgba(0,0,0,0.8)\", \"width\": 3}, \"lon\": [15.89, 15.358268204532408, 14.826536409064815], \"mode\": \"lines\", \"text\": [\"\", \"Name: HR-SI<br>Init Capacity: 2.0<br>Opt Capacity: 13.67666650140882\", \"\"], \"type\": \"scattergeo\"}, {\"hoverinfo\": \"text\", \"lat\": [47.16650259401978, 46.50505867048484, 45.8436147469499], \"line\": {\"color\": \"rgba(0,0,0,0.8)\", \"width\": 3}, \"lon\": [19.413449085022, 22.19135378485224, 24.969258484682477], \"mode\": \"lines\", \"text\": [\"\", \"Name: HU-RO<br>Init Capacity: 1.4<br>Opt Capacity: 13.480951535866295\", \"\"], \"type\": \"scattergeo\"}, {\"hoverinfo\": \"text\", \"lat\": [47.16650259401978, 45.59927425415866, 44.032045914297534], \"line\": {\"color\": \"rgba(0,0,0,0.8)\", \"width\": 3}, \"lon\": [19.413449085022, 20.10945338892303, 20.80545769282406], \"mode\": \"lines\", \"text\": [\"\", \"Name: HU-RS<br>Init Capacity: 0.6<br>Opt Capacity: 2.5142484487404886\", \"\"], \"type\": \"scattergeo\"}, {\"hoverinfo\": \"text\", \"lat\": [47.16650259401978, 46.64503299842503, 46.12356340283028], \"line\": {\"color\": \"rgba(0,0,0,0.8)\", \"width\": 3}, \"lon\": [19.413449085022, 17.119992747043405, 14.826536409064815], \"mode\": \"lines\", \"text\": [\"\", \"Name: HU-SI<br>Init Capacity: 1.2<br>Opt Capacity: 1.202357653492065\", \"\"], \"type\": \"scattergeo\"}, {\"hoverinfo\": \"text\", \"lat\": [47.16650259401978, 47.93701672265625, 48.70753085129272], \"line\": {\"color\": \"rgba(0,0,0,0.8)\", \"width\": 3}, \"lon\": [19.413449085022, 19.452550074361127, 19.491651063700253], \"mode\": \"lines\", \"text\": [\"\", \"Name: HU-SK<br>Init Capacity: 2.0<br>Opt Capacity: 10.46976012210429\", \"\"], \"type\": \"scattergeo\"}, {\"hoverinfo\": \"text\", \"lat\": [42.78883246349228, 42.79007824752965, 42.79132403156703], \"line\": {\"color\": \"rgba(150,150,150,0.8)\", \"width\": 3}, \"lon\": [12.079515571933127, 15.666378019975959, 19.253240468018788], \"mode\": \"lines\", \"text\": [\"\", \"Name: IT-ME<br>Init Capacity: 1.2<br>Opt Capacity: 1.3461194337662148\", \"\"], \"type\": \"scattergeo\"}, {\"hoverinfo\": \"text\", \"lat\": [42.78883246349228, 44.45619793316128, 46.12356340283028], \"line\": {\"color\": \"rgba(0,0,0,0.8)\", \"width\": 3}, \"lon\": [12.079515571933127, 13.453025990498972, 14.826536409064815], \"mode\": \"lines\", \"text\": [\"\", \"Name: IT-SI<br>Init Capacity: 1.895<br>Opt Capacity: 1.8977986501188209\", \"\"], \"type\": \"scattergeo\"}, {\"hoverinfo\": \"text\", \"lat\": [55.33726831230646, 56.09740143316909, 56.857534554031716], \"line\": {\"color\": \"rgba(0,0,0,0.8)\", \"width\": 3}, \"lon\": [23.894859234965374, 24.41214209101947, 24.929424947073564], \"mode\": \"lines\", \"text\": [\"\", \"Name: LT-LV<br>Init Capacity: 1.5<br>Opt Capacity: 5.463826021337348\", \"\"], \"type\": \"scattergeo\"}, {\"hoverinfo\": \"text\", \"lat\": [55.33726831230646, 53.73093910519968, 52.1246098980929], \"line\": {\"color\": \"rgba(0,0,0,0.8)\", \"width\": 3}, \"lon\": [23.894859234965374, 21.64787154132513, 19.400883847684888], \"mode\": \"lines\", \"text\": [\"\", \"Name: LT-PL<br>Init Capacity: 1.0<br>Opt Capacity: 5.741790243304732\", \"\"], \"type\": \"scattergeo\"}, {\"hoverinfo\": \"text\", \"lat\": [55.33726831230646, 57.33793415615323, 59.3386], \"line\": {\"color\": \"rgba(150,150,150,0.8)\", \"width\": 3}, \"lon\": [23.894859234965374, 19.554329617482686, 15.2138], \"mode\": \"lines\", \"text\": [\"\", \"Name: LT-SE<br>Init Capacity: 0.7<br>Opt Capacity: 0.7499661532780497\", \"\"], \"type\": \"scattergeo\"}, {\"hoverinfo\": \"text\", \"lat\": [42.79132403156703, 43.41168497293228, 44.032045914297534], \"line\": {\"color\": \"rgba(0,0,0,0.8)\", \"width\": 3}, \"lon\": [19.253240468018788, 20.029349080421426, 20.80545769282406], \"mode\": \"lines\", \"text\": [\"\", \"Name: ME-RS<br>Init Capacity: 0.7<br>Opt Capacity: 1.1217753781326982\", \"\"], \"type\": \"scattergeo\"}, {\"hoverinfo\": \"text\", \"lat\": [41.599682669319726, 42.81586429180863, 44.032045914297534], \"line\": {\"color\": \"rgba(0,0,0,0.8)\", \"width\": 3}, \"lon\": [21.69747575097416, 21.25146672189911, 20.80545769282406], \"mode\": \"lines\", \"text\": [\"\", \"Name: MK-RS<br>Init Capacity: 0.75<br>Opt Capacity: 1.4622826458447231\", \"\"], \"type\": \"scattergeo\"}, {\"hoverinfo\": \"text\", \"lat\": [52.25149135767342, 56.24654567883671, 60.2416], \"line\": {\"color\": \"rgba(150,150,150,0.8)\", \"width\": 3}, \"lon\": [5.600829010752159, 7.92606450537608, 10.2513], \"mode\": \"lines\", \"text\": [\"\", \"Name: NL-NO<br>Init Capacity: 0.7<br>Opt Capacity: 0.7401448685188092\", \"\"], \"type\": \"scattergeo\"}, {\"hoverinfo\": \"text\", \"lat\": [60.2416, 59.790099999999995, 59.3386], \"line\": {\"color\": \"rgba(0,0,0,0.8)\", \"width\": 3}, \"lon\": [10.2513, 12.73255, 15.2138], \"mode\": \"lines\", \"text\": [\"\", \"Name: NO-SE<br>Init Capacity: 4.145<br>Opt Capacity: 9.473850888740394\", \"\"], \"type\": \"scattergeo\"}, {\"hoverinfo\": \"text\", \"lat\": [52.1246098980929, 55.73160494904645, 59.3386], \"line\": {\"color\": \"rgba(150,150,150,0.8)\", \"width\": 3}, \"lon\": [19.400883847684888, 17.307341923842444, 15.2138], \"mode\": \"lines\", \"text\": [\"\", \"Name: PL-SE<br>Init Capacity: 0.6<br>Opt Capacity: 5.414317096241086\", \"\"], \"type\": \"scattergeo\"}, {\"hoverinfo\": \"text\", \"lat\": [52.1246098980929, 50.41607037469281, 48.70753085129272], \"line\": {\"color\": \"rgba(0,0,0,0.8)\", \"width\": 3}, \"lon\": [19.400883847684888, 19.44626745569257, 19.491651063700253], \"mode\": \"lines\", \"text\": [\"\", \"Name: PL-SK<br>Init Capacity: 1.98<br>Opt Capacity: 6.372113876740757\", \"\"], \"type\": \"scattergeo\"}, {\"hoverinfo\": \"text\", \"lat\": [45.8436147469499, 44.93783033062372, 44.032045914297534], \"line\": {\"color\": \"rgba(0,0,0,0.8)\", \"width\": 3}, \"lon\": [24.969258484682477, 22.887358088753267, 20.80545769282406], \"mode\": \"lines\", \"text\": [\"\", \"Name: RO-RS<br>Init Capacity: 1.3<br>Opt Capacity: 3.9337869010803663\", \"\"], \"type\": \"scattergeo\"}, {\"hoverinfo\": \"text\", \"lat\": [64.99758844184284, 58.854194220921414, 52.7108], \"line\": {\"color\": \"rgba(150,150,150,0.8)\", \"width\": 3}, \"lon\": [-18.60546679620677, -9.943533398103385, -1.2816], \"mode\": \"lines\", \"text\": [\"\", \"Name: IS-GB<br>Init Capacity: 0.0<br>Opt Capacity: 6.552107356858457\", \"\"], \"type\": \"scattergeo\"}, {\"hoverinfo\": \"text\", \"lat\": [60.0, 62.49879422092142, 64.99758844184284], \"line\": {\"color\": \"rgba(150,150,150,0.8)\", \"width\": 3}, \"lon\": [-44.0, -31.302733398103385, -18.60546679620677], \"mode\": \"lines\", \"text\": [\"\", \"Name: GL-IS<br>Init Capacity: 0.0<br>Opt Capacity: 0.0680814076051856\", \"\"], \"type\": \"scattergeo\"}, {\"hoverinfo\": \"text\", \"lat\": [36.5, 35.75, 35.0], \"line\": {\"color\": \"rgba(0,0,0,0.8)\", \"width\": 3}, \"lon\": [3.0, -1.5, -6.0], \"mode\": \"lines\", \"text\": [\"\", \"Name: DZ-MA<br>Init Capacity: 0.0<br>Opt Capacity: 0.10361217351428492\", \"\"], \"type\": \"scattergeo\"}, {\"hoverinfo\": \"text\", \"lat\": [36.5, 36.5, 36.5], \"line\": {\"color\": \"rgba(0,0,0,0.8)\", \"width\": 3}, \"lon\": [3.0, 6.5, 10.0], \"mode\": \"lines\", \"text\": [\"\", \"Name: DZ-TN<br>Init Capacity: 0.0<br>Opt Capacity: 2.0714155493117032\", \"\"], \"type\": \"scattergeo\"}, {\"hoverinfo\": \"text\", \"lat\": [32.0, 34.25, 36.5], \"line\": {\"color\": \"rgba(0,0,0,0.8)\", \"width\": 3}, \"lon\": [22.0, 16.0, 10.0], \"mode\": \"lines\", \"text\": [\"\", \"Name: LY-TN<br>Init Capacity: 0.0<br>Opt Capacity: 0.04048334530229925\", \"\"], \"type\": \"scattergeo\"}, {\"hoverinfo\": \"text\", \"lat\": [30.0, 31.0, 32.0], \"line\": {\"color\": \"rgba(0,0,0,0.8)\", \"width\": 3}, \"lon\": [31.0, 26.5, 22.0], \"mode\": \"lines\", \"text\": [\"\", \"Name: EG-LY<br>Init Capacity: 0.0<br>Opt Capacity: 0.2485625460914603\", \"\"], \"type\": \"scattergeo\"}, {\"hoverinfo\": \"text\", \"lat\": [32.0, 36.095, 40.19], \"line\": {\"color\": \"rgba(150,150,150,0.8)\", \"width\": 3}, \"lon\": [22.0, 21.785, 21.57], \"mode\": \"lines\", \"text\": [\"\", \"Name: LY-GR<br>Init Capacity: 0.0<br>Opt Capacity: 2.061552574704061\", \"\"], \"type\": \"scattergeo\"}, {\"hoverinfo\": \"text\", \"lat\": [35.0, 37.69140026657806, 40.38280053315611], \"line\": {\"color\": \"rgba(150,150,150,0.8)\", \"width\": 3}, \"lon\": [-6.0, -4.745075669874277, -3.4901513397485537], \"mode\": \"lines\", \"text\": [\"\", \"Name: MA-ES<br>Init Capacity: 0.0<br>Opt Capacity: 1.1264871563032366\", \"\"], \"type\": \"scattergeo\"}, {\"hoverinfo\": \"text\", \"lat\": [36.5, 39.644416231746135, 42.78883246349228], \"line\": {\"color\": \"rgba(150,150,150,0.8)\", \"width\": 3}, \"lon\": [10.0, 11.039757785966565, 12.079515571933127], \"mode\": \"lines\", \"text\": [\"\", \"Name: TN-IT<br>Init Capacity: 0.0<br>Opt Capacity: 23.000669924156018\", \"\"], \"type\": \"scattergeo\"}, {\"hoverinfo\": \"text\", \"lat\": [32.09, 31.825000000000003, 31.56], \"line\": {\"color\": \"rgba(0,0,0,0.8)\", \"width\": 3}, \"lon\": [34.76, 35.155, 35.55], \"mode\": \"lines\", \"text\": [\"\", \"Name: IL-JO<br>Init Capacity: 0.0<br>Opt Capacity: 0.4414288648177708\", \"\"], \"type\": \"scattergeo\"}, {\"hoverinfo\": \"text\", \"lat\": [34.63, 33.095, 31.56], \"line\": {\"color\": \"rgba(0,0,0,0.8)\", \"width\": 3}, \"lon\": [36.64, 36.095, 35.55], \"mode\": \"lines\", \"text\": [\"\", \"Name: SY-JO<br>Init Capacity: 0.0<br>Opt Capacity: 0.10853402753706043\", \"\"], \"type\": \"scattergeo\"}, {\"hoverinfo\": \"text\", \"lat\": [32.09, 33.595, 35.1], \"line\": {\"color\": \"rgba(150,150,150,0.8)\", \"width\": 3}, \"lon\": [34.76, 33.985, 33.21], \"mode\": \"lines\", \"text\": [\"\", \"Name: IL-CY<br>Init Capacity: 0.0<br>Opt Capacity: 0.5780179543665506\", \"\"], \"type\": \"scattergeo\"}, {\"hoverinfo\": \"text\", \"lat\": [29.26121499924342, 30.41060749962171, 31.56], \"line\": {\"color\": \"rgba(0,0,0,0.8)\", \"width\": 3}, \"lon\": [40.88034531809624, 38.21517265904812, 35.55], \"mode\": \"lines\", \"text\": [\"\", \"Name: SA-JO<br>Init Capacity: 0.0<br>Opt Capacity: 0.06283334436009924\", \"\"], \"type\": \"scattergeo\"}, {\"hoverinfo\": \"text\", \"lat\": [30.0, 31.045, 32.09], \"line\": {\"color\": \"rgba(0,0,0,0.8)\", \"width\": 3}, \"lon\": [31.0, 32.879999999999995, 34.76], \"mode\": \"lines\", \"text\": [\"\", \"Name: EG-IL<br>Init Capacity: 0.0<br>Opt Capacity: 0.7305726371263133\", \"\"], \"type\": \"scattergeo\"}, {\"hoverinfo\": \"text\", \"lat\": [29.26121499924342, 29.63060749962171, 30.0], \"line\": {\"color\": \"rgba(0,0,0,0.8)\", \"width\": 3}, \"lon\": [40.88034531809624, 35.940172659048116, 31.0], \"mode\": \"lines\", \"text\": [\"\", \"Name: SA-EG<br>Init Capacity: 0.0<br>Opt Capacity: 0.2325928624270731\", \"\"], \"type\": \"scattergeo\"}, {\"hoverinfo\": \"text\", \"lat\": [34.63, 36.84535590671631, 39.060711813432604], \"line\": {\"color\": \"rgba(0,0,0,0.8)\", \"width\": 3}, \"lon\": [36.64, 35.90682864505082, 35.173657290101644], \"mode\": \"lines\", \"text\": [\"\", \"Name: SY-TR<br>Init Capacity: 0.0<br>Opt Capacity: 0.6088312276942455\", \"\"], \"type\": \"scattergeo\"}, {\"hoverinfo\": \"text\", \"lat\": [35.1, 37.644999999999996, 40.19], \"line\": {\"color\": \"rgba(150,150,150,0.8)\", \"width\": 3}, \"lon\": [33.21, 27.39, 21.57], \"mode\": \"lines\", \"text\": [\"\", \"Name: CY-GR<br>Init Capacity: 0.0<br>Opt Capacity: 0.5736019681600801\", \"\"], \"type\": \"scattergeo\"}, {\"hoverinfo\": \"text\", \"lat\": [41.14228459115937, 47.59290263126028, 44.16811507125081, 50.6428512327746, 42.76137671517489, 46.802495577022654, 49.74285900276431, 51.10996580328854, 56.1997, 58.67723182926178, 40.38280053315611, 61.06, 46.56411437730826, 52.7108, 40.19, 45.7366, 47.16650259401978, 53.17437686474271, 42.78883246349228, 55.33726831230646, 49.77062796202031, 56.857534554031716, 42.79132403156703, 41.599682669319726, 52.25149135767342, 60.2416, 52.1246098980929, 39.688626963904035, 45.8436147469499, 44.032045914297534, 59.3386, 46.12356340283028, 48.70753085129272, 39.060711813432604, 64.99758844184284, 60.0, 36.5, 30.0, 35.0, 32.0, 36.5, 35.1, 32.09, 31.56, 29.26121499924342, 34.63], \"lon\": [20.068384151449468, 14.140191772818696, 17.78653099912207, 4.663988676898716, 25.231507004214954, 8.234392216202034, 15.33841182211087, 10.392973099201473, 9.0227, 25.51809107372305, -3.4901513397485537, 24.82, 2.5486471517608758, -1.2816, 21.57, 15.89, 19.413449085022, -8.151943726084482, 12.079515571933127, 23.894859234965374, 6.0878136254269135, 24.929424947073564, 19.253240468018788, 21.69747575097416, 5.600829010752159, 10.2513, 19.400883847684888, -7.965252540849135, 24.969258484682477, 20.80545769282406, 15.2138, 14.826536409064815, 19.491651063700253, 35.173657290101644, -18.60546679620677, -44.0, 3.0, 31.0, -6.0, 22.0, 10.0, 33.21, 34.76, 35.55, 40.88034531809624, 36.64], \"marker\": {\"color\": \"rgba(100,50,20, 0.8)\", \"size\": 10}, \"mode\": \"markers\", \"name\": \"bus\", \"text\": [\"Bus: AL<br>\", \"Bus: AT<br>\", \"Bus: BA<br>\", \"Bus: BE<br>\", \"Bus: BG<br>\", \"Bus: CH<br>\", \"Bus: CZ<br>\", \"Bus: DE<br>\", \"Bus: DK<br>\", \"Bus: EE<br>\", \"Bus: ES<br>\", \"Bus: FI<br>\", \"Bus: FR<br>\", \"Bus: GB<br>\", \"Bus: GR<br>\", \"Bus: HR<br>\", \"Bus: HU<br>\", \"Bus: IE<br>\", \"Bus: IT<br>\", \"Bus: LT<br>\", \"Bus: LU<br>\", \"Bus: LV<br>\", \"Bus: ME<br>\", \"Bus: MK<br>\", \"Bus: NL<br>\", \"Bus: NO<br>\", \"Bus: PL<br>\", \"Bus: PT<br>\", \"Bus: RO<br>\", \"Bus: RS<br>\", \"Bus: SE<br>\", \"Bus: SI<br>\", \"Bus: SK<br>\", \"Bus: TR<br>\", \"Bus: IS<br>\", \"Bus: GL<br>\", \"Bus: DZ<br>\", \"Bus: EG<br>\", \"Bus: MA<br>\", \"Bus: LY<br>\", \"Bus: TN<br>\", \"Bus: CY<br>\", \"Bus: IL<br>\", \"Bus: JO<br>\", \"Bus: SA<br>\", \"Bus: SY<br>\"], \"type\": \"scattergeo\"}],                        {\"geo\": {\"fitbounds\": false, \"lataxis\": {\"dtick\": 5, \"range\": [26.0, 68.0], \"showgrid\": true}, \"lonaxis\": {\"dtick\": 5, \"range\": [-49.0, 53.0], \"showgrid\": true}, \"scope\": \"world\", \"showcountries\": true}, \"legend\": {\"itemsizing\": \"trace\"}, \"showlegend\": false, \"template\": {\"data\": {\"bar\": [{\"error_x\": {\"color\": \"#2a3f5f\"}, \"error_y\": {\"color\": \"#2a3f5f\"}, \"marker\": {\"line\": {\"color\": \"#E5ECF6\", \"width\": 0.5}}, \"type\": \"bar\"}], \"barpolar\": [{\"marker\": {\"line\": {\"color\": \"#E5ECF6\", \"width\": 0.5}}, \"type\": \"barpolar\"}], \"carpet\": [{\"aaxis\": {\"endlinecolor\": \"#2a3f5f\", \"gridcolor\": \"white\", \"linecolor\": \"white\", \"minorgridcolor\": \"white\", \"startlinecolor\": \"#2a3f5f\"}, \"baxis\": {\"endlinecolor\": \"#2a3f5f\", \"gridcolor\": \"white\", \"linecolor\": \"white\", \"minorgridcolor\": \"white\", \"startlinecolor\": \"#2a3f5f\"}, \"type\": \"carpet\"}], \"choropleth\": [{\"colorbar\": {\"outlinewidth\": 0, \"ticks\": \"\"}, \"type\": \"choropleth\"}], \"contour\": [{\"colorbar\": {\"outlinewidth\": 0, \"ticks\": \"\"}, \"colorscale\": [[0.0, \"#0d0887\"], [0.1111111111111111, \"#46039f\"], [0.2222222222222222, \"#7201a8\"], [0.3333333333333333, \"#9c179e\"], [0.4444444444444444, \"#bd3786\"], [0.5555555555555556, \"#d8576b\"], [0.6666666666666666, \"#ed7953\"], [0.7777777777777778, \"#fb9f3a\"], [0.8888888888888888, \"#fdca26\"], [1.0, \"#f0f921\"]], \"type\": \"contour\"}], \"contourcarpet\": [{\"colorbar\": {\"outlinewidth\": 0, \"ticks\": \"\"}, \"type\": \"contourcarpet\"}], \"heatmap\": [{\"colorbar\": {\"outlinewidth\": 0, \"ticks\": \"\"}, \"colorscale\": [[0.0, \"#0d0887\"], [0.1111111111111111, \"#46039f\"], [0.2222222222222222, \"#7201a8\"], [0.3333333333333333, \"#9c179e\"], [0.4444444444444444, \"#bd3786\"], [0.5555555555555556, \"#d8576b\"], [0.6666666666666666, \"#ed7953\"], [0.7777777777777778, \"#fb9f3a\"], [0.8888888888888888, \"#fdca26\"], [1.0, \"#f0f921\"]], \"type\": \"heatmap\"}], \"heatmapgl\": [{\"colorbar\": {\"outlinewidth\": 0, \"ticks\": \"\"}, \"colorscale\": [[0.0, \"#0d0887\"], [0.1111111111111111, \"#46039f\"], [0.2222222222222222, \"#7201a8\"], [0.3333333333333333, \"#9c179e\"], [0.4444444444444444, \"#bd3786\"], [0.5555555555555556, \"#d8576b\"], [0.6666666666666666, \"#ed7953\"], [0.7777777777777778, \"#fb9f3a\"], [0.8888888888888888, \"#fdca26\"], [1.0, \"#f0f921\"]], \"type\": \"heatmapgl\"}], \"histogram\": [{\"marker\": {\"colorbar\": {\"outlinewidth\": 0, \"ticks\": \"\"}}, \"type\": \"histogram\"}], \"histogram2d\": [{\"colorbar\": {\"outlinewidth\": 0, \"ticks\": \"\"}, \"colorscale\": [[0.0, \"#0d0887\"], [0.1111111111111111, \"#46039f\"], [0.2222222222222222, \"#7201a8\"], [0.3333333333333333, \"#9c179e\"], [0.4444444444444444, \"#bd3786\"], [0.5555555555555556, \"#d8576b\"], [0.6666666666666666, \"#ed7953\"], [0.7777777777777778, \"#fb9f3a\"], [0.8888888888888888, \"#fdca26\"], [1.0, \"#f0f921\"]], \"type\": \"histogram2d\"}], \"histogram2dcontour\": [{\"colorbar\": {\"outlinewidth\": 0, \"ticks\": \"\"}, \"colorscale\": [[0.0, \"#0d0887\"], [0.1111111111111111, \"#46039f\"], [0.2222222222222222, \"#7201a8\"], [0.3333333333333333, \"#9c179e\"], [0.4444444444444444, \"#bd3786\"], [0.5555555555555556, \"#d8576b\"], [0.6666666666666666, \"#ed7953\"], [0.7777777777777778, \"#fb9f3a\"], [0.8888888888888888, \"#fdca26\"], [1.0, \"#f0f921\"]], \"type\": \"histogram2dcontour\"}], \"mesh3d\": [{\"colorbar\": {\"outlinewidth\": 0, \"ticks\": \"\"}, \"type\": \"mesh3d\"}], \"parcoords\": [{\"line\": {\"colorbar\": {\"outlinewidth\": 0, \"ticks\": \"\"}}, \"type\": \"parcoords\"}], \"pie\": [{\"automargin\": true, \"type\": \"pie\"}], \"scatter\": [{\"marker\": {\"colorbar\": {\"outlinewidth\": 0, \"ticks\": \"\"}}, \"type\": \"scatter\"}], \"scatter3d\": [{\"line\": {\"colorbar\": {\"outlinewidth\": 0, \"ticks\": \"\"}}, \"marker\": {\"colorbar\": {\"outlinewidth\": 0, \"ticks\": \"\"}}, \"type\": \"scatter3d\"}], \"scattercarpet\": [{\"marker\": {\"colorbar\": {\"outlinewidth\": 0, \"ticks\": \"\"}}, \"type\": \"scattercarpet\"}], \"scattergeo\": [{\"marker\": {\"colorbar\": {\"outlinewidth\": 0, \"ticks\": \"\"}}, \"type\": \"scattergeo\"}], \"scattergl\": [{\"marker\": {\"colorbar\": {\"outlinewidth\": 0, \"ticks\": \"\"}}, \"type\": \"scattergl\"}], \"scattermapbox\": [{\"marker\": {\"colorbar\": {\"outlinewidth\": 0, \"ticks\": \"\"}}, \"type\": \"scattermapbox\"}], \"scatterpolar\": [{\"marker\": {\"colorbar\": {\"outlinewidth\": 0, \"ticks\": \"\"}}, \"type\": \"scatterpolar\"}], \"scatterpolargl\": [{\"marker\": {\"colorbar\": {\"outlinewidth\": 0, \"ticks\": \"\"}}, \"type\": \"scatterpolargl\"}], \"scatterternary\": [{\"marker\": {\"colorbar\": {\"outlinewidth\": 0, \"ticks\": \"\"}}, \"type\": \"scatterternary\"}], \"surface\": [{\"colorbar\": {\"outlinewidth\": 0, \"ticks\": \"\"}, \"colorscale\": [[0.0, \"#0d0887\"], [0.1111111111111111, \"#46039f\"], [0.2222222222222222, \"#7201a8\"], [0.3333333333333333, \"#9c179e\"], [0.4444444444444444, \"#bd3786\"], [0.5555555555555556, \"#d8576b\"], [0.6666666666666666, \"#ed7953\"], [0.7777777777777778, \"#fb9f3a\"], [0.8888888888888888, \"#fdca26\"], [1.0, \"#f0f921\"]], \"type\": \"surface\"}], \"table\": [{\"cells\": {\"fill\": {\"color\": \"#EBF0F8\"}, \"line\": {\"color\": \"white\"}}, \"header\": {\"fill\": {\"color\": \"#C8D4E3\"}, \"line\": {\"color\": \"white\"}}, \"type\": \"table\"}]}, \"layout\": {\"annotationdefaults\": {\"arrowcolor\": \"#2a3f5f\", \"arrowhead\": 0, \"arrowwidth\": 1}, \"coloraxis\": {\"colorbar\": {\"outlinewidth\": 0, \"ticks\": \"\"}}, \"colorscale\": {\"diverging\": [[0, \"#8e0152\"], [0.1, \"#c51b7d\"], [0.2, \"#de77ae\"], [0.3, \"#f1b6da\"], [0.4, \"#fde0ef\"], [0.5, \"#f7f7f7\"], [0.6, \"#e6f5d0\"], [0.7, \"#b8e186\"], [0.8, \"#7fbc41\"], [0.9, \"#4d9221\"], [1, \"#276419\"]], \"sequential\": [[0.0, \"#0d0887\"], [0.1111111111111111, \"#46039f\"], [0.2222222222222222, \"#7201a8\"], [0.3333333333333333, \"#9c179e\"], [0.4444444444444444, \"#bd3786\"], [0.5555555555555556, \"#d8576b\"], [0.6666666666666666, \"#ed7953\"], [0.7777777777777778, \"#fb9f3a\"], [0.8888888888888888, \"#fdca26\"], [1.0, \"#f0f921\"]], \"sequentialminus\": [[0.0, \"#0d0887\"], [0.1111111111111111, \"#46039f\"], [0.2222222222222222, \"#7201a8\"], [0.3333333333333333, \"#9c179e\"], [0.4444444444444444, \"#bd3786\"], [0.5555555555555556, \"#d8576b\"], [0.6666666666666666, \"#ed7953\"], [0.7777777777777778, \"#fb9f3a\"], [0.8888888888888888, \"#fdca26\"], [1.0, \"#f0f921\"]]}, \"colorway\": [\"#636efa\", \"#EF553B\", \"#00cc96\", \"#ab63fa\", \"#FFA15A\", \"#19d3f3\", \"#FF6692\", \"#B6E880\", \"#FF97FF\", \"#FECB52\"], \"font\": {\"color\": \"#2a3f5f\"}, \"geo\": {\"bgcolor\": \"white\", \"lakecolor\": \"white\", \"landcolor\": \"#E5ECF6\", \"showlakes\": true, \"showland\": true, \"subunitcolor\": \"white\"}, \"hoverlabel\": {\"align\": \"left\"}, \"hovermode\": \"closest\", \"mapbox\": {\"style\": \"light\"}, \"paper_bgcolor\": \"white\", \"plot_bgcolor\": \"#E5ECF6\", \"polar\": {\"angularaxis\": {\"gridcolor\": \"white\", \"linecolor\": \"white\", \"ticks\": \"\"}, \"bgcolor\": \"#E5ECF6\", \"radialaxis\": {\"gridcolor\": \"white\", \"linecolor\": \"white\", \"ticks\": \"\"}}, \"scene\": {\"xaxis\": {\"backgroundcolor\": \"#E5ECF6\", \"gridcolor\": \"white\", \"gridwidth\": 2, \"linecolor\": \"white\", \"showbackground\": true, \"ticks\": \"\", \"zerolinecolor\": \"white\"}, \"yaxis\": {\"backgroundcolor\": \"#E5ECF6\", \"gridcolor\": \"white\", \"gridwidth\": 2, \"linecolor\": \"white\", \"showbackground\": true, \"ticks\": \"\", \"zerolinecolor\": \"white\"}, \"zaxis\": {\"backgroundcolor\": \"#E5ECF6\", \"gridcolor\": \"white\", \"gridwidth\": 2, \"linecolor\": \"white\", \"showbackground\": true, \"ticks\": \"\", \"zerolinecolor\": \"white\"}}, \"shapedefaults\": {\"line\": {\"color\": \"#2a3f5f\"}}, \"ternary\": {\"aaxis\": {\"gridcolor\": \"white\", \"linecolor\": \"white\", \"ticks\": \"\"}, \"baxis\": {\"gridcolor\": \"white\", \"linecolor\": \"white\", \"ticks\": \"\"}, \"bgcolor\": \"#E5ECF6\", \"caxis\": {\"gridcolor\": \"white\", \"linecolor\": \"white\", \"ticks\": \"\"}}, \"title\": {\"x\": 0.05}, \"xaxis\": {\"automargin\": true, \"gridcolor\": \"white\", \"linecolor\": \"white\", \"ticks\": \"\", \"title\": {\"standoff\": 15}, \"zerolinecolor\": \"white\", \"zerolinewidth\": 2}, \"yaxis\": {\"automargin\": true, \"gridcolor\": \"white\", \"linecolor\": \"white\", \"ticks\": \"\", \"title\": {\"standoff\": 15}, \"zerolinecolor\": \"white\", \"zerolinewidth\": 2}}}},                        {\"responsive\": true}                    ).then(function(){\n",
       "                            \n",
       "var gd = document.getElementById('f802cc0f-e4d3-41a2-a70a-0740a6deacbb');\n",
       "var x = new MutationObserver(function (mutations, observer) {{\n",
       "        var display = window.getComputedStyle(gd).display;\n",
       "        if (!display || display === 'none') {{\n",
       "            console.log([gd, 'removed!']);\n",
       "            Plotly.purge(gd);\n",
       "            observer.disconnect();\n",
       "        }}\n",
       "}});\n",
       "\n",
       "// Listen for the removal of the full notebook cells\n",
       "var notebookContainer = gd.closest('#notebook-container');\n",
       "if (notebookContainer) {{\n",
       "    x.observe(notebookContainer, {childList: true});\n",
       "}}\n",
       "\n",
       "// Listen for the clearing of the current output cell\n",
       "var outputEl = gd.closest('.output');\n",
       "if (outputEl) {{\n",
       "    x.observe(outputEl, {childList: true});\n",
       "}}\n",
       "\n",
       "                        })                };                });            </script>        </div>"
      ]
     },
     "metadata": {},
     "output_type": "display_data"
    }
   ],
   "source": [
    "# Maps of flows\n",
    "from postprocessing.plotly import SizingPlotly\n",
    "\n",
    "for case in cases:\n",
    "    net = nets[case]\n",
    "    #net.iplot()\n",
    "    sp = SizingPlotly(net)\n",
    "    fig = sp.plot_topology()\n",
    "    #fig = sp.plot_capacity(\"init\")\n",
    "    fig.show()\n",
    "    # fig = sp.plot_capacity(\"final\")\n",
    "    #fig.show()\n",
    "    # fig.write_image(f\"transmission_capacity_{case}.png\", dpi=300)\n",
    "    # fig.write_html(f\"{case}_topology_heatmap.html\", auto_open=True)"
   ]
  },
  {
   "cell_type": "code",
   "execution_count": 116,
   "metadata": {},
   "outputs": [
    {
     "name": "stdout",
     "output_type": "stream",
     "text": [
      "BE\n",
      "Load BE    437.979\n",
      "dtype: float64\n",
      "Load shed BE    231.301072\n",
      "dtype: float64\n",
      "21.06339313302637\n",
      "DE\n",
      "Load DE    2525.05\n",
      "dtype: float64\n",
      "Load shed DE    2122.487119\n",
      "dtype: float64\n",
      "103.11417095759002\n",
      "FR\n",
      "Load FR    2786.562\n",
      "dtype: float64\n",
      "Load shed FR    622.232024\n",
      "dtype: float64\n",
      "-133.497253463391\n",
      "LU\n",
      "Load LU    19.667\n",
      "dtype: float64\n",
      "Load shed LU    8.838474\n",
      "dtype: float64\n",
      "-48.631085788079076\n",
      "NL\n",
      "Load NL    619.166\n",
      "dtype: float64\n",
      "Load shed NL    369.227001\n",
      "dtype: float64\n",
      "57.95077516085371\n"
     ]
    }
   ],
   "source": [
    "# Imports in each countries\n",
    "for bus in net.buses.index:\n",
    "    print(bus)\n",
    "    links_in = net.links[net.links.bus1 == bus].index\n",
    "    links_out = net.links[net.links.bus0 == bus].index\n",
    "    \n",
    "    print(net.loads_t.p[net.loads[net.loads.bus == bus].index].sum())\n",
    "    print(net.generators_t.p[net.generators[(net.generators.type == \"load\") & (net.generators.bus == bus)].index].sum())\n",
    "    imports = 0.\n",
    "    if not links_in.empty:\n",
    "        imports += net.links_t.p0[links_in].sum().sum()\n",
    "    if not links_out.empty:\n",
    "        imports -= net.links_t.p0[links_out].sum().sum()\n",
    "    print(imports)"
   ]
  }
 ],
 "metadata": {
  "kernelspec": {
   "display_name": "Python 3",
   "language": "python",
   "name": "python3"
  },
  "language_info": {
   "codemirror_mode": {
    "name": "ipython",
    "version": 3
   },
   "file_extension": ".py",
   "mimetype": "text/x-python",
   "name": "python",
   "nbconvert_exporter": "python",
   "pygments_lexer": "ipython3",
   "version": "3.7.6"
  }
 },
 "nbformat": 4,
 "nbformat_minor": 2
}
